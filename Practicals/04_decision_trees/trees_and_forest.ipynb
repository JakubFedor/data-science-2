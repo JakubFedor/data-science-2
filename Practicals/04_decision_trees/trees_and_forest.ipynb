{
 "cells": [
  {
   "cell_type": "markdown",
   "id": "54a90646",
   "metadata": {},
   "source": [
    "# Download data"
   ]
  },
  {
   "cell_type": "markdown",
   "id": "e8386e78",
   "metadata": {},
   "source": [
    "Download the data from <a href=\"https://www2.karlin.mff.cuni.cz/~kozmikk/files/weatherAUS.zip\" target=\"_blank\"> weather data</a> and unpack it to the Data folder."
   ]
  },
  {
   "cell_type": "markdown",
   "id": "a3fbbf0c",
   "metadata": {},
   "source": [
    "# Decision Trees & Random forests"
   ]
  },
  {
   "cell_type": "markdown",
   "id": "3788a57b",
   "metadata": {},
   "source": [
    "**Outline**\n",
    "\n",
    "In this tutorial we learn how to train CART, CHAID decision trees and random forests on real data and how to evaluate them. We also create simple random forest.\n",
    "\n",
    "We proceed as follows:\n",
    "\n",
    "- import data and handle missing values\n",
    "- split data to train and test samples using stratification\n",
    "- separately for CART and CHAID models we perform\n",
    "    - train decision tree and assess the performance\n",
    "    - inspect importance of predictors (available for CART only)\n",
    "    - evaluate the model performance in time\n",
    "- based on CART tree we manually construct random forest\n",
    "- we create and assess random forest model separately using two different encodings of categorical predictors\n",
    "    - one-hot encoding\n",
    "    - mean-target encoding\n",
    "    \n",
    "Additional resources:\n",
    "\n",
    "- https://towardsdatascience.com/cart-classification-and-regression-trees-for-clean-but-powerful-models-cc89e60b7a85\n",
    "- https://towardsdatascience.com/random-forest-in-python-24d0893d51c0\n",
    "- https://github.com/WillKoehrsen/Data-Analysis\n",
    "\n",
    "    \n",
    "Implementation limitations: CART only supports continuous predictors, whereas CHAID supports only categorical (either nominal or ordinal)\n",
    "\n",
    "**Important notice, last practical we dealt with the missing values, infinities and new categories properly, this time we take a few shortcuts as the important and new part are the decision trees not the data handling and preparation**"
   ]
  },
  {
   "cell_type": "markdown",
   "id": "20dbf339",
   "metadata": {},
   "source": [
    "## Imports"
   ]
  },
  {
   "cell_type": "code",
   "execution_count": 2,
   "id": "58284c11",
   "metadata": {},
   "outputs": [
    {
     "name": "stderr",
     "output_type": "stream",
     "text": [
      "C:\\Users\\fedorja\\Documents\\data-science-2\\.venv\\lib\\site-packages\\CHAID\\graph.py:13: UserWarning: Imports of optional packages needed to generate graphs failed. Please install with the \"graph\" option.\n",
      "  warnings.warn(UserWarning('Imports of optional packages needed to generate graphs failed. Please install with the \"graph\" option.'))\n"
     ]
    }
   ],
   "source": [
    "import pandas as pd\n",
    "import numpy as np\n",
    "import matplotlib.pyplot as plt\n",
    "\n",
    "from random import sample\n",
    "\n",
    "from sklearn.model_selection import train_test_split\n",
    "from sklearn.metrics import classification_report\n",
    "from sklearn.metrics import roc_auc_score\n",
    "from sklearn import tree\n",
    "from sklearn.ensemble import RandomForestRegressor\n",
    "from pathlib import Path\n",
    "\n",
    "import CHAID\n",
    "\n",
    "pd.set_option('mode.chained_assignment',None)"
   ]
  },
  {
   "cell_type": "markdown",
   "id": "435e7a71",
   "metadata": {},
   "source": [
    "## Load data\n",
    "\n",
    "Weather data from Australia. The task is to predict if tomorrow is going to rain based on today's weather characteristics.\n",
    "\n",
    "Source: https://www.kaggle.com/jsphyg/weather-dataset-rattle-package\n",
    "\n",
    "**Target description**\n",
    "\n",
    "- RainTomorrow: 1 if precipitation (mm) in the 24 hours to 9am exceeds 1mm, otherwise 0 for the next day\n",
    "\n",
    "**Predictors description**\n",
    "\n",
    "- MinTemp: The minimum temperature in degrees celsius\n",
    "- MaxTemp: The maximum temperature in degrees celsius\n",
    "- Sunshine: The number of hours of bright sunshine in the day.\n",
    "- WindGustSpeed: The speed (km/h) of the strongest wind gust in the 24 hours to midnight\n",
    "- Humidity9am: Humidity (percent) at 9am\n",
    "- Humidity3pm: Humidity (percent) at 3pm\n",
    "- Pressure9am: Atmospheric pressure (hpa) reduced to mean sea level at 9am\n",
    "- Pressure3pm: Atmospheric pressure (hpa) reduced to mean sea level at 3pm\n",
    "- RainToday: 1 if precipitation (mm) in the 24 hours to 9am exceeds 1mm, otherwise 0\n",
    "\n",
    "\n"
   ]
  },
  {
   "cell_type": "markdown",
   "id": "29fa7c2a",
   "metadata": {},
   "source": [
    "We import data and keep only several columns for simplicity and certain time period for simplicity."
   ]
  },
  {
   "cell_type": "code",
   "execution_count": 3,
   "id": "b8aa3f35",
   "metadata": {},
   "outputs": [
    {
     "name": "stdout",
     "output_type": "stream",
     "text": [
      "Number of rows:      26557\n",
      "Number of columns:   11\n"
     ]
    }
   ],
   "source": [
    "# Import dataset\n",
    "data_file = Path(\"../Data/weatherAUS.csv\")\n",
    "data_all = pd.read_csv(data_file, encoding='utf-8')\n",
    "\n",
    "# Keep only specified columns and rows\n",
    "columns = [\"Date\", \"MinTemp\", \"MaxTemp\", \"Sunshine\", \"WindGustSpeed\", \"Humidity9am\", \"Humidity3pm\", \"Pressure9am\", \"Pressure3pm\", \"RainToday\", \"RainTomorrow\"]\n",
    "data = data_all.loc[data_all['Date']>='2016-01-01', columns]\n",
    "\n",
    "# Convert date to datetime format\n",
    "data['Date'] = pd.to_datetime(data['Date'])\n",
    "\n",
    "print(f'Number of rows:      {data.shape[0]}')\n",
    "print(f'Number of columns:   {data.shape[1]}')"
   ]
  },
  {
   "cell_type": "code",
   "execution_count": 4,
   "id": "b96d8634",
   "metadata": {},
   "outputs": [
    {
     "data": {
      "text/html": [
       "<div>\n",
       "<style scoped>\n",
       "    .dataframe tbody tr th:only-of-type {\n",
       "        vertical-align: middle;\n",
       "    }\n",
       "\n",
       "    .dataframe tbody tr th {\n",
       "        vertical-align: top;\n",
       "    }\n",
       "\n",
       "    .dataframe thead th {\n",
       "        text-align: right;\n",
       "    }\n",
       "</style>\n",
       "<table border=\"1\" class=\"dataframe\">\n",
       "  <thead>\n",
       "    <tr style=\"text-align: right;\">\n",
       "      <th></th>\n",
       "      <th>Date</th>\n",
       "      <th>MinTemp</th>\n",
       "      <th>MaxTemp</th>\n",
       "      <th>Sunshine</th>\n",
       "      <th>WindGustSpeed</th>\n",
       "      <th>Humidity9am</th>\n",
       "      <th>Humidity3pm</th>\n",
       "      <th>Pressure9am</th>\n",
       "      <th>Pressure3pm</th>\n",
       "      <th>RainToday</th>\n",
       "      <th>RainTomorrow</th>\n",
       "    </tr>\n",
       "  </thead>\n",
       "  <tbody>\n",
       "    <tr>\n",
       "      <th>2498</th>\n",
       "      <td>2016-01-01</td>\n",
       "      <td>20.4</td>\n",
       "      <td>37.6</td>\n",
       "      <td>NaN</td>\n",
       "      <td>54.0</td>\n",
       "      <td>46.0</td>\n",
       "      <td>17.0</td>\n",
       "      <td>1013.4</td>\n",
       "      <td>1009.2</td>\n",
       "      <td>No</td>\n",
       "      <td>No</td>\n",
       "    </tr>\n",
       "    <tr>\n",
       "      <th>2499</th>\n",
       "      <td>2016-01-02</td>\n",
       "      <td>20.9</td>\n",
       "      <td>33.6</td>\n",
       "      <td>NaN</td>\n",
       "      <td>50.0</td>\n",
       "      <td>54.0</td>\n",
       "      <td>30.0</td>\n",
       "      <td>1011.1</td>\n",
       "      <td>1008.4</td>\n",
       "      <td>No</td>\n",
       "      <td>Yes</td>\n",
       "    </tr>\n",
       "    <tr>\n",
       "      <th>2500</th>\n",
       "      <td>2016-01-03</td>\n",
       "      <td>18.4</td>\n",
       "      <td>23.1</td>\n",
       "      <td>NaN</td>\n",
       "      <td>48.0</td>\n",
       "      <td>62.0</td>\n",
       "      <td>67.0</td>\n",
       "      <td>1014.0</td>\n",
       "      <td>1014.8</td>\n",
       "      <td>Yes</td>\n",
       "      <td>Yes</td>\n",
       "    </tr>\n",
       "    <tr>\n",
       "      <th>2501</th>\n",
       "      <td>2016-01-04</td>\n",
       "      <td>17.3</td>\n",
       "      <td>23.7</td>\n",
       "      <td>NaN</td>\n",
       "      <td>39.0</td>\n",
       "      <td>74.0</td>\n",
       "      <td>65.0</td>\n",
       "      <td>1017.9</td>\n",
       "      <td>1016.5</td>\n",
       "      <td>Yes</td>\n",
       "      <td>Yes</td>\n",
       "    </tr>\n",
       "    <tr>\n",
       "      <th>2502</th>\n",
       "      <td>2016-01-05</td>\n",
       "      <td>15.5</td>\n",
       "      <td>22.9</td>\n",
       "      <td>NaN</td>\n",
       "      <td>31.0</td>\n",
       "      <td>92.0</td>\n",
       "      <td>63.0</td>\n",
       "      <td>1016.3</td>\n",
       "      <td>1013.9</td>\n",
       "      <td>Yes</td>\n",
       "      <td>No</td>\n",
       "    </tr>\n",
       "  </tbody>\n",
       "</table>\n",
       "</div>"
      ],
      "text/plain": [
       "           Date  MinTemp  MaxTemp  Sunshine  WindGustSpeed  Humidity9am  \\\n",
       "2498 2016-01-01     20.4     37.6       NaN           54.0         46.0   \n",
       "2499 2016-01-02     20.9     33.6       NaN           50.0         54.0   \n",
       "2500 2016-01-03     18.4     23.1       NaN           48.0         62.0   \n",
       "2501 2016-01-04     17.3     23.7       NaN           39.0         74.0   \n",
       "2502 2016-01-05     15.5     22.9       NaN           31.0         92.0   \n",
       "\n",
       "      Humidity3pm  Pressure9am  Pressure3pm RainToday RainTomorrow  \n",
       "2498         17.0       1013.4       1009.2        No           No  \n",
       "2499         30.0       1011.1       1008.4        No          Yes  \n",
       "2500         67.0       1014.0       1014.8       Yes          Yes  \n",
       "2501         65.0       1017.9       1016.5       Yes          Yes  \n",
       "2502         63.0       1016.3       1013.9       Yes           No  "
      ]
     },
     "execution_count": 4,
     "metadata": {},
     "output_type": "execute_result"
    }
   ],
   "source": [
    "data.head()"
   ]
  },
  {
   "cell_type": "markdown",
   "id": "e3c7ddad",
   "metadata": {},
   "source": [
    "# CART\n",
    "\n",
    "Implementation: https://scikit-learn.org/stable/modules/generated/sklearn.tree.DecisionTreeClassifier.html#sklearn.tree.DecisionTreeClassifier\n",
    "\n",
    "We use implementation from sci-kit learn package. The implementation has several characteristics:\n",
    "\n",
    "- Missing values are not supported\n",
    "- Assumes the predictors to be numeric variables (either continuous or ordinal categories). \n",
    "- Both categorical and continuous targets are possible (we chose either DecisionTreeClassification or DecisionTreeRegression class according to our task)\n",
    "\n",
    "Short description:\n",
    "\n",
    "In each node we iterate over randomly chosen set of predictors and compute gain for each predictors measured using defined measure and assuming different possible splits over this predictor. Using the best predictor we perform split into two subtrees. See details of the implementation for further parameters that influence stopping of the algorithm."
   ]
  },
  {
   "cell_type": "markdown",
   "id": "0391ab07",
   "metadata": {},
   "source": [
    "## Data Manipulation"
   ]
  },
  {
   "cell_type": "markdown",
   "id": "f3b6fe32",
   "metadata": {},
   "source": [
    "We copy our data to 'data_cart' dataframe.\n",
    "\n",
    "First, we handle missing values, then encode all predictors as numerical."
   ]
  },
  {
   "cell_type": "code",
   "execution_count": 5,
   "id": "de29c61d",
   "metadata": {},
   "outputs": [],
   "source": [
    "data_cart = data.copy()"
   ]
  },
  {
   "cell_type": "code",
   "execution_count": 6,
   "id": "95f2a587-785d-4610-b589-a7b41c448297",
   "metadata": {},
   "outputs": [
    {
     "data": {
      "text/html": [
       "<div>\n",
       "<style scoped>\n",
       "    .dataframe tbody tr th:only-of-type {\n",
       "        vertical-align: middle;\n",
       "    }\n",
       "\n",
       "    .dataframe tbody tr th {\n",
       "        vertical-align: top;\n",
       "    }\n",
       "\n",
       "    .dataframe thead th {\n",
       "        text-align: right;\n",
       "    }\n",
       "</style>\n",
       "<table border=\"1\" class=\"dataframe\">\n",
       "  <thead>\n",
       "    <tr style=\"text-align: right;\">\n",
       "      <th></th>\n",
       "      <th>Date</th>\n",
       "      <th>MinTemp</th>\n",
       "      <th>MaxTemp</th>\n",
       "      <th>Sunshine</th>\n",
       "      <th>WindGustSpeed</th>\n",
       "      <th>Humidity9am</th>\n",
       "      <th>Humidity3pm</th>\n",
       "      <th>Pressure9am</th>\n",
       "      <th>Pressure3pm</th>\n",
       "      <th>RainToday</th>\n",
       "      <th>RainTomorrow</th>\n",
       "    </tr>\n",
       "  </thead>\n",
       "  <tbody>\n",
       "    <tr>\n",
       "      <th>2498</th>\n",
       "      <td>2016-01-01</td>\n",
       "      <td>20.4</td>\n",
       "      <td>37.6</td>\n",
       "      <td>NaN</td>\n",
       "      <td>54.0</td>\n",
       "      <td>46.0</td>\n",
       "      <td>17.0</td>\n",
       "      <td>1013.4</td>\n",
       "      <td>1009.2</td>\n",
       "      <td>No</td>\n",
       "      <td>No</td>\n",
       "    </tr>\n",
       "    <tr>\n",
       "      <th>2499</th>\n",
       "      <td>2016-01-02</td>\n",
       "      <td>20.9</td>\n",
       "      <td>33.6</td>\n",
       "      <td>NaN</td>\n",
       "      <td>50.0</td>\n",
       "      <td>54.0</td>\n",
       "      <td>30.0</td>\n",
       "      <td>1011.1</td>\n",
       "      <td>1008.4</td>\n",
       "      <td>No</td>\n",
       "      <td>Yes</td>\n",
       "    </tr>\n",
       "    <tr>\n",
       "      <th>2500</th>\n",
       "      <td>2016-01-03</td>\n",
       "      <td>18.4</td>\n",
       "      <td>23.1</td>\n",
       "      <td>NaN</td>\n",
       "      <td>48.0</td>\n",
       "      <td>62.0</td>\n",
       "      <td>67.0</td>\n",
       "      <td>1014.0</td>\n",
       "      <td>1014.8</td>\n",
       "      <td>Yes</td>\n",
       "      <td>Yes</td>\n",
       "    </tr>\n",
       "    <tr>\n",
       "      <th>2501</th>\n",
       "      <td>2016-01-04</td>\n",
       "      <td>17.3</td>\n",
       "      <td>23.7</td>\n",
       "      <td>NaN</td>\n",
       "      <td>39.0</td>\n",
       "      <td>74.0</td>\n",
       "      <td>65.0</td>\n",
       "      <td>1017.9</td>\n",
       "      <td>1016.5</td>\n",
       "      <td>Yes</td>\n",
       "      <td>Yes</td>\n",
       "    </tr>\n",
       "    <tr>\n",
       "      <th>2502</th>\n",
       "      <td>2016-01-05</td>\n",
       "      <td>15.5</td>\n",
       "      <td>22.9</td>\n",
       "      <td>NaN</td>\n",
       "      <td>31.0</td>\n",
       "      <td>92.0</td>\n",
       "      <td>63.0</td>\n",
       "      <td>1016.3</td>\n",
       "      <td>1013.9</td>\n",
       "      <td>Yes</td>\n",
       "      <td>No</td>\n",
       "    </tr>\n",
       "  </tbody>\n",
       "</table>\n",
       "</div>"
      ],
      "text/plain": [
       "           Date  MinTemp  MaxTemp  Sunshine  WindGustSpeed  Humidity9am  \\\n",
       "2498 2016-01-01     20.4     37.6       NaN           54.0         46.0   \n",
       "2499 2016-01-02     20.9     33.6       NaN           50.0         54.0   \n",
       "2500 2016-01-03     18.4     23.1       NaN           48.0         62.0   \n",
       "2501 2016-01-04     17.3     23.7       NaN           39.0         74.0   \n",
       "2502 2016-01-05     15.5     22.9       NaN           31.0         92.0   \n",
       "\n",
       "      Humidity3pm  Pressure9am  Pressure3pm RainToday RainTomorrow  \n",
       "2498         17.0       1013.4       1009.2        No           No  \n",
       "2499         30.0       1011.1       1008.4        No          Yes  \n",
       "2500         67.0       1014.0       1014.8       Yes          Yes  \n",
       "2501         65.0       1017.9       1016.5       Yes          Yes  \n",
       "2502         63.0       1016.3       1013.9       Yes           No  "
      ]
     },
     "execution_count": 6,
     "metadata": {},
     "output_type": "execute_result"
    }
   ],
   "source": [
    "data_cart.head()"
   ]
  },
  {
   "cell_type": "markdown",
   "id": "771bdc03",
   "metadata": {},
   "source": [
    "### Predictor type"
   ]
  },
  {
   "cell_type": "code",
   "execution_count": 7,
   "id": "115e5d07",
   "metadata": {},
   "outputs": [
    {
     "data": {
      "text/plain": [
       "Date             datetime64[ns]\n",
       "MinTemp                 float64\n",
       "MaxTemp                 float64\n",
       "Sunshine                float64\n",
       "WindGustSpeed           float64\n",
       "Humidity9am             float64\n",
       "Humidity3pm             float64\n",
       "Pressure9am             float64\n",
       "Pressure3pm             float64\n",
       "RainToday                object\n",
       "RainTomorrow             object\n",
       "dtype: object"
      ]
     },
     "execution_count": 7,
     "metadata": {},
     "output_type": "execute_result"
    }
   ],
   "source": [
    "# We check the format of the data\n",
    "data_cart.dtypes"
   ]
  },
  {
   "cell_type": "markdown",
   "id": "b0b81a63-5846-4b10-a82a-3ce586c2aca7",
   "metadata": {},
   "source": [
    "<span style=\"color:red\">**TO DO:** </span> \\\n",
    "Re-encode. Column 'Date' will not be used for prediction, therefore, no need to encode it. Only 'RainToday' and 'RainTomorrow' should be re-encoded. \\\n",
    "Convert values of 'RainToday' and 'RainTomorrow' into 0-1 encoding. You can use .apply function to use row-by-row notation. "
   ]
  },
  {
   "cell_type": "code",
   "execution_count": 8,
   "id": "8746fe38",
   "metadata": {},
   "outputs": [],
   "source": [
    "data_cart['RainTodayFlag'] = data_cart['RainToday'].apply(lambda x: 1 if x=='Yes' else 0) \n",
    "data_cart['RainTomorrowFlag'] = data_cart['RainTomorrow'].apply(lambda x: 1 if x=='Yes' else 0) "
   ]
  },
  {
   "cell_type": "code",
   "execution_count": 9,
   "id": "f772769c-9573-4e34-9839-d016b9827198",
   "metadata": {},
   "outputs": [],
   "source": [
    "# add flag whether RainToday is missing\n",
    "data_cart['RainToday_missing'] = data_cart['RainToday'].isna().astype(int)"
   ]
  },
  {
   "cell_type": "code",
   "execution_count": 10,
   "id": "9518cf7c-a7e3-42fe-9adf-6bdd7bcdaba9",
   "metadata": {},
   "outputs": [
    {
     "data": {
      "text/plain": [
       "True"
      ]
     },
     "execution_count": 10,
     "metadata": {},
     "output_type": "execute_result"
    }
   ],
   "source": [
    "# another way how to reencode using faster np.where function\n",
    "all(np.where(data_cart['RainToday']=='Yes', 1, 0) == data_cart['RainToday'].apply(lambda x: 1 if x=='Yes' else 0))"
   ]
  },
  {
   "cell_type": "code",
   "execution_count": 11,
   "id": "42ce9774",
   "metadata": {},
   "outputs": [],
   "source": [
    "# We denote 'target' the name of the column with target values. 'predictors' stands for the list of all predictors\n",
    "\n",
    "target = 'RainTomorrowFlag'\n",
    "\n",
    "predictors = columns.copy()\n",
    "predictors.remove('Date')\n",
    "predictors.remove('RainToday')\n",
    "predictors.remove('RainTomorrow')\n",
    "predictors += [\"RainTodayFlag\"]\n",
    "predictors += ['RainToday_missing']"
   ]
  },
  {
   "cell_type": "code",
   "execution_count": 12,
   "id": "004a74ae",
   "metadata": {},
   "outputs": [
    {
     "data": {
      "text/plain": [
       "['MinTemp',\n",
       " 'MaxTemp',\n",
       " 'Sunshine',\n",
       " 'WindGustSpeed',\n",
       " 'Humidity9am',\n",
       " 'Humidity3pm',\n",
       " 'Pressure9am',\n",
       " 'Pressure3pm',\n",
       " 'RainTodayFlag',\n",
       " 'RainToday_missing']"
      ]
     },
     "execution_count": 12,
     "metadata": {},
     "output_type": "execute_result"
    }
   ],
   "source": [
    "predictors"
   ]
  },
  {
   "cell_type": "markdown",
   "id": "6cc6fafe",
   "metadata": {},
   "source": [
    "### Missing values"
   ]
  },
  {
   "cell_type": "code",
   "execution_count": 13,
   "id": "42ce6b0b-b4e7-49be-bae8-845ce3a237d3",
   "metadata": {},
   "outputs": [
    {
     "data": {
      "text/plain": [
       "Date                     0\n",
       "MinTemp                333\n",
       "MaxTemp                316\n",
       "Sunshine             18386\n",
       "WindGustSpeed         1636\n",
       "Humidity9am            470\n",
       "Humidity3pm           1959\n",
       "Pressure9am           2869\n",
       "Pressure3pm           2870\n",
       "RainToday              577\n",
       "RainTomorrow           583\n",
       "RainTodayFlag            0\n",
       "RainTomorrowFlag         0\n",
       "RainToday_missing        0\n",
       "dtype: int64"
      ]
     },
     "execution_count": 13,
     "metadata": {},
     "output_type": "execute_result"
    }
   ],
   "source": [
    "# Number of missing values in each column\n",
    "data_cart.isna().sum()"
   ]
  },
  {
   "cell_type": "code",
   "execution_count": 14,
   "id": "11f63d6f-89f3-4efd-b4a9-e0c2f7d6b632",
   "metadata": {},
   "outputs": [],
   "source": [
    "# Handle missing values for predictors in a fast manner, optimal would be to consider missing as another category\n",
    "data_cart=data_cart[pd.isnull(data_cart['RainTomorrow'])==False]\n",
    "data_cart[predictors]=data_cart[predictors].fillna(data_cart[predictors].mean())"
   ]
  },
  {
   "cell_type": "code",
   "execution_count": 15,
   "id": "db6881ed-5954-47bc-aa2e-9967f147b772",
   "metadata": {},
   "outputs": [
    {
     "data": {
      "text/plain": [
       "MinTemp              0\n",
       "MaxTemp              0\n",
       "Sunshine             0\n",
       "WindGustSpeed        0\n",
       "Humidity9am          0\n",
       "Humidity3pm          0\n",
       "Pressure9am          0\n",
       "Pressure3pm          0\n",
       "RainTodayFlag        0\n",
       "RainToday_missing    0\n",
       "RainTomorrowFlag     0\n",
       "dtype: int64"
      ]
     },
     "execution_count": 15,
     "metadata": {},
     "output_type": "execute_result"
    }
   ],
   "source": [
    "data_cart[predictors + [target]].isna().sum()"
   ]
  },
  {
   "cell_type": "code",
   "execution_count": 16,
   "id": "c00e4bca-b61d-4c94-8f48-2ded493c56cc",
   "metadata": {},
   "outputs": [
    {
     "data": {
      "text/plain": [
       "2498     2016-01-01\n",
       "2499     2016-01-02\n",
       "2500     2016-01-03\n",
       "2501     2016-01-04\n",
       "2502     2016-01-05\n",
       "            ...    \n",
       "145454   2017-06-20\n",
       "145455   2017-06-21\n",
       "145456   2017-06-22\n",
       "145457   2017-06-23\n",
       "145458   2017-06-24\n",
       "Name: Date, Length: 25974, dtype: datetime64[ns]"
      ]
     },
     "execution_count": 16,
     "metadata": {},
     "output_type": "execute_result"
    }
   ],
   "source": [
    "data_cart['Date']"
   ]
  },
  {
   "cell_type": "markdown",
   "id": "5de254c9",
   "metadata": {},
   "source": [
    "## Split & train"
   ]
  },
  {
   "cell_type": "markdown",
   "id": "e0b19501",
   "metadata": {},
   "source": [
    "We split the data into train and test datasets. We use stratification by a combination of year and month for further model evaluation (i.e. 201706, 201707,...)."
   ]
  },
  {
   "cell_type": "code",
   "execution_count": 17,
   "id": "4007fd23",
   "metadata": {},
   "outputs": [
    {
     "data": {
      "text/plain": [
       "Month\n",
       "05    3007\n",
       "03    2945\n",
       "01    2943\n",
       "04    2885\n",
       "02    2714\n",
       "06    2660\n",
       "08    1515\n",
       "07    1511\n",
       "10    1499\n",
       "09    1444\n",
       "11    1434\n",
       "12    1417\n",
       "Name: count, dtype: int64"
      ]
     },
     "execution_count": 17,
     "metadata": {},
     "output_type": "execute_result"
    }
   ],
   "source": [
    "# we have observation from 2 years\n",
    "data_cart['Month'] = data_cart['Date'].dt.strftime('%m')\n",
    "data_cart['Month'].value_counts()"
   ]
  },
  {
   "cell_type": "code",
   "execution_count": 18,
   "id": "5864f865-5f48-447f-b667-21242c861f30",
   "metadata": {},
   "outputs": [
    {
     "data": {
      "text/plain": [
       "Year\n",
       "2016    17508\n",
       "2017     8466\n",
       "Name: count, dtype: int64"
      ]
     },
     "execution_count": 18,
     "metadata": {},
     "output_type": "execute_result"
    }
   ],
   "source": [
    "data_cart['Year'] = data_cart['Date'].dt.year\n",
    "data_cart['Year'].value_counts()"
   ]
  },
  {
   "cell_type": "code",
   "execution_count": 19,
   "id": "90913744-b70b-4b1c-802e-f8c5bcafb80c",
   "metadata": {},
   "outputs": [
    {
     "data": {
      "text/plain": [
       "YearMon\n",
       "201608    1515\n",
       "201607    1511\n",
       "201605    1506\n",
       "201705    1501\n",
       "201610    1499\n",
       "201701    1492\n",
       "201703    1480\n",
       "201603    1465\n",
       "201606    1463\n",
       "201704    1451\n",
       "201601    1451\n",
       "201609    1444\n",
       "201611    1434\n",
       "201604    1434\n",
       "201612    1417\n",
       "201602    1369\n",
       "201702    1345\n",
       "201706    1197\n",
       "Name: count, dtype: int64"
      ]
     },
     "execution_count": 19,
     "metadata": {},
     "output_type": "execute_result"
    }
   ],
   "source": [
    "data_cart['YearMon'] = data_cart['Year'].astype(str) + (data_cart['Month']).astype(str)\n",
    "data_cart['YearMon'].value_counts()"
   ]
  },
  {
   "cell_type": "markdown",
   "id": "fecb1f7c-220a-44f5-b9c5-1a5eae067362",
   "metadata": {},
   "source": [
    "<span style=\"color:red\">**TO DO:** </span> \\\n",
    "Split the data into 'data_cart_train' and 'data_cart_test' datasets. Use stratification by 'YearMon'. \\\n",
    "Use function 'train_test_split' from 'sklearn.model_selection' package and choose parameters carefully."
   ]
  },
  {
   "cell_type": "code",
   "execution_count": 20,
   "id": "d0557997",
   "metadata": {},
   "outputs": [],
   "source": [
    "data_cart_train, data_cart_test = train_test_split(\n",
    "     data_cart, test_size=0.2, random_state=17, stratify=data_cart['YearMon']\n",
    " ) "
   ]
  },
  {
   "cell_type": "markdown",
   "id": "a76d8437-0239-4a70-ae19-cd4c4335bd28",
   "metadata": {},
   "source": [
    "<span style=\"color:red\">**TO DO:** </span> \\\n",
    "Check the documentation for parameters' interpretation: https://scikit-learn.org/stable/modules/generated/sklearn.tree.DecisionTreeClassifier.html#sklearn.tree.DecisionTreeClassifier \\\n",
    "Build the model and choose the parameters carefully."
   ]
  },
  {
   "cell_type": "code",
   "execution_count": 21,
   "id": "fac29230",
   "metadata": {},
   "outputs": [
    {
     "name": "stdout",
     "output_type": "stream",
     "text": [
      "*************** Tree Summary ***************\n",
      "Classes:  [0 1]\n",
      "Tree Depth:  4\n",
      "No. of leaves:  16\n",
      "No. of features:  10\n",
      "--------------------------------------------------------\n",
      "\n",
      "*************** Evaluation on Test Data ***************\n",
      "Accuracy Score:  0.8279114533205005\n",
      "              precision    recall  f1-score   support\n",
      "\n",
      "           0       0.84      0.96      0.90      4007\n",
      "           1       0.74      0.38      0.50      1188\n",
      "\n",
      "    accuracy                           0.83      5195\n",
      "   macro avg       0.79      0.67      0.70      5195\n",
      "weighted avg       0.82      0.83      0.81      5195\n",
      "\n",
      "--------------------------------------------------------\n",
      "\n",
      "*************** Evaluation on Training Data ***************\n",
      "Accuracy Score:  0.8314644593098802\n",
      "              precision    recall  f1-score   support\n",
      "\n",
      "           0       0.84      0.96      0.90     16021\n",
      "           1       0.75      0.40      0.52      4758\n",
      "\n",
      "    accuracy                           0.83     20779\n",
      "   macro avg       0.80      0.68      0.71     20779\n",
      "weighted avg       0.82      0.83      0.81     20779\n",
      "\n",
      "--------------------------------------------------------\n"
     ]
    }
   ],
   "source": [
    "# Now we can fit the model.\n",
    "\n",
    "criterion = 'gini'\n",
    "splitter='best'\n",
    "mdepth = 4\n",
    "min_samples_split = 10\n",
    "min_samples_leaf = 1\n",
    "random_state = 17\n",
    "\n",
    "# Now we contruct the model.\n",
    "model = tree.DecisionTreeClassifier(\n",
    "    criterion=criterion,\n",
    "    splitter=splitter, \n",
    "    max_depth=mdepth,\n",
    "    min_samples_split=min_samples_split,\n",
    "    min_samples_leaf=min_samples_leaf, \n",
    "    random_state=random_state, \n",
    ")\n",
    "\n",
    "# And fit training data.\n",
    "\n",
    "clf = model.fit(data_cart_train[predictors], data_cart_train[target])\n",
    "\n",
    "# Predict class labels on training data\n",
    "pred_labels_tr = model.predict(data_cart_train[predictors])\n",
    "# Predict class labels on a test data\n",
    "pred_labels_te = model.predict(data_cart_test[predictors])\n",
    "\n",
    "# Tree summary and model evaluation metrics\n",
    "print('*************** Tree Summary ***************')\n",
    "print('Classes: ', clf.classes_)\n",
    "print('Tree Depth: ', clf.tree_.max_depth)\n",
    "print('No. of leaves: ', clf.tree_.n_leaves)\n",
    "print('No. of features: ', clf.n_features_in_)\n",
    "print('--------------------------------------------------------')\n",
    "print(\"\")\n",
    "\n",
    "print('*************** Evaluation on Test Data ***************')\n",
    "score_te = model.score(data_cart_test[predictors], data_cart_test[target])\n",
    "print('Accuracy Score: ', score_te)\n",
    "# Look at classification report to evaluate the model\n",
    "print(classification_report(data_cart_test[target], pred_labels_te))\n",
    "print('--------------------------------------------------------')\n",
    "print(\"\")\n",
    "\n",
    "print('*************** Evaluation on Training Data ***************')\n",
    "score_tr = model.score(data_cart_train[predictors], data_cart_train[target])\n",
    "print('Accuracy Score: ', score_tr)\n",
    "# Look at classification report to evaluate the model\n",
    "print(classification_report(data_cart_train[target], pred_labels_tr))\n",
    "print('--------------------------------------------------------')"
   ]
  },
  {
   "cell_type": "code",
   "execution_count": 22,
   "id": "b888caa8",
   "metadata": {
    "scrolled": true
   },
   "outputs": [
    {
     "data": {
      "image/png": "[encoded data removed]",
      "text/plain": [
       "<Figure size 2500x2500 with 1 Axes>"
      ]
     },
     "metadata": {},
     "output_type": "display_data"
    }
   ],
   "source": [
    "# We can plot the tree structure.\n",
    "\n",
    "# TODO: To make the following line work you need to install graphviz (if you have not done so in one of the previous classes)\n",
    "# 1) follow the instructions https://graphviz.gitlab.io/download/?fbclid=IwAR1V-lrRhho5rSfBVYXYISsighqRwOCOgMHLmL_DclkQrPtMXQaKj3mFcqs\n",
    "# 2) this notebook has been tested with version 8.0.3\n",
    "# 3) make sure you add it to the PATH variable (you are specifically asked during the installation) at least for local user\n",
    "\n",
    "fig, ax = plt.subplots(figsize=(25, 25))\n",
    "tree.plot_tree(clf, ax=ax, feature_names=predictors)\n",
    "plt.show()"
   ]
  },
  {
   "cell_type": "markdown",
   "id": "7b8c14f2",
   "metadata": {},
   "source": [
    "## Evaluate"
   ]
  },
  {
   "cell_type": "markdown",
   "id": "02103c91",
   "metadata": {},
   "source": [
    "We evaluate performance\n",
    "\n",
    "- we inspect accuracy of the predictions on test data month by month\n",
    "- we evaluate predictors importance"
   ]
  },
  {
   "cell_type": "markdown",
   "id": "939149e2",
   "metadata": {},
   "source": [
    "### Accuracy"
   ]
  },
  {
   "cell_type": "markdown",
   "id": "49c50c25-b466-4dbd-8dfe-effc0661d947",
   "metadata": {},
   "source": [
    "<span style=\"color:red\">**TO DO:** </span> \\\n",
    "Predict target variable on test data in two steps\n",
    "- use 'predict_proba' method for 'DecisionTreeClassifier'\n",
    "- convert result to 0/1 values using some threshold (could be done in one step but we want to observer dependence on the threshold) \n",
    "\n",
    "Finally store the prediction as 'Prediction' column"
   ]
  },
  {
   "cell_type": "code",
   "execution_count": 23,
   "id": "df0a8e6e",
   "metadata": {},
   "outputs": [],
   "source": [
    "data_cart_test['Prediction_prob'] = clf.predict_proba(data_cart_test[predictors])[:,1]\n",
    "data_cart_test['Prediction'] = (data_cart_test['Prediction_prob']>=0.4).astype(int) "
   ]
  },
  {
   "cell_type": "markdown",
   "id": "cc4989b6-5581-4206-9da5-8a036a79a4d2",
   "metadata": {},
   "source": [
    "<span style=\"color:red\">**TO DO:** </span> \\\n",
    "Compute accuracy by 'Month'. Store the result to pd.Series 'data_cart_accuracy'"
   ]
  },
  {
   "cell_type": "code",
   "execution_count": 24,
   "id": "2891fa40",
   "metadata": {},
   "outputs": [],
   "source": [
    "data_cart_test['Accuracy'] = 1-abs(data_cart_test[target] - data_cart_test['Prediction'])\n",
    "data_cart_accuracy = data_cart_test.groupby('YearMon')['Accuracy'].mean()"
   ]
  },
  {
   "cell_type": "code",
   "execution_count": 25,
   "id": "edaef727",
   "metadata": {
    "scrolled": true
   },
   "outputs": [
    {
     "data": {
      "image/png": "[encoded data removed]",
      "text/plain": [
       "<Figure size 640x480 with 1 Axes>"
      ]
     },
     "metadata": {},
     "output_type": "display_data"
    }
   ],
   "source": [
    "# Inspect stability of the model performance in time\n",
    "\n",
    "ax1 = plt.subplot(111)\n",
    "ax1.bar(range(len(data_cart_accuracy)), data_cart_accuracy)\n",
    "ax1.set_xticks(range(len(data_cart_accuracy)))\n",
    "ax1.set_xticklabels(data_cart_accuracy.index, rotation = 90)\n",
    "ax1.set_xlabel('Month')\n",
    "ax1.set_ylabel('Accuracy')\n",
    "\n",
    "plt.show()"
   ]
  },
  {
   "cell_type": "markdown",
   "id": "64e1ec4a",
   "metadata": {},
   "source": [
    "### Predictor importance\n",
    "\n",
    "In scikit-learn the feature importance is the decrease in node impurity. The key is that it measures the importance only at a node level. Then, all the nodes are weighted by how many samples reach that node."
   ]
  },
  {
   "cell_type": "code",
   "execution_count": 26,
   "id": "0ea77b6b",
   "metadata": {
    "scrolled": true
   },
   "outputs": [
    {
     "name": "stdout",
     "output_type": "stream",
     "text": [
      "Variable: Humidity3pm          Importance: 0.78\n",
      "Variable: Pressure3pm          Importance: 0.1\n",
      "Variable: WindGustSpeed        Importance: 0.08\n",
      "Variable: MinTemp              Importance: 0.02\n",
      "Variable: Humidity9am          Importance: 0.02\n",
      "Variable: MaxTemp              Importance: 0.0\n",
      "Variable: Sunshine             Importance: 0.0\n",
      "Variable: Pressure9am          Importance: 0.0\n",
      "Variable: RainTodayFlag        Importance: 0.0\n",
      "Variable: RainToday_missing    Importance: 0.0\n"
     ]
    }
   ],
   "source": [
    "# Get numerical feature importances\n",
    "importances = list(clf.feature_importances_)\n",
    "# List of tuples with variable and importance\n",
    "feature_importances = [(feature, round(importance, 2)) for feature, importance in zip(predictors, importances)]\n",
    "# Sort the feature importances by most important first\n",
    "feature_importances = sorted(feature_importances, key = lambda x: x[1], reverse = True)\n",
    "# Print out the feature and importances \n",
    "[print('Variable: {:20} Importance: {}'.format(*pair)) for pair in feature_importances];"
   ]
  },
  {
   "cell_type": "code",
   "execution_count": 27,
   "id": "f14dc980",
   "metadata": {},
   "outputs": [
    {
     "data": {
      "image/png": "[encoded data removed]",
      "text/plain": [
       "<Figure size 640x480 with 1 Axes>"
      ]
     },
     "metadata": {},
     "output_type": "display_data"
    }
   ],
   "source": [
    "# Plot importance\n",
    "x_values = list(range(len(importances)))\n",
    "# Make a bar chart\n",
    "plt.bar(x_values, importances, orientation = 'vertical')\n",
    "# Tick labels for x axis\n",
    "plt.xticks(x_values, predictors, rotation='vertical')\n",
    "# Axis labels and title\n",
    "plt.ylabel('Importance'); plt.xlabel('Variable'); plt.title('Variable Importances');"
   ]
  },
  {
   "cell_type": "markdown",
   "id": "43b537fc",
   "metadata": {},
   "source": [
    "# CHAID\n",
    "\n",
    "Implementation: https://github.com/Rambatino/CHAID\n",
    "\n",
    "Documentation: https://www2.karlin.mff.cuni.cz/~kozmikk/files/TREE-CHAID.pdf\n",
    "\n",
    "- supports missing values for predictors (treated as a category)\n",
    "- assumes the predictors to be categorical (either nominal or ordinal)\n",
    "- the same implementation works also for regression (choose the dependent variable to be continuous)\n",
    "\n",
    "Short description:\n",
    "\n",
    "Continuous predictors are assumed to be categorized either in 'nominal' or 'ordinal' (e.g. deciles) format. Target is either 'nominal' or 'continuous'.\n",
    "\n",
    "We define constants alpha_merge and split_threshold.\n",
    "\n",
    "In each node we iterate over all categories of all predictors and test if they significantly influence the target value in terms of Chi-square test if target is 'categorical' or F-test if target is continuous. Categories are merged until the significance is below alpha_merge. Now we iterate over such newly categorized predictors and split using the one with the most significant influence on target (using the same measure as above) if split_threshold is triggered by any of them. We obtain possibly split which is non-binary.\n",
    "\n",
    "Additional parameters:\n",
    "\n",
    "- the above procedure is repeated only until the depth of the tree is not larger then max_depth\n",
    "- if we have less then min_parent_node_size in given node, no splitting is performed\n",
    "- if splitting would result in new node with less then min_child_node_size observations, no splitting is performed\n",
    "- if is_exhaustive is true then all possible merging combinations of given predictor's categories are examined (according to https://www.researchgate.net/publication/332591728_Classification_of_air_traffic_control_scenarios_using_decision_trees_insights_from_a_field_study_in_terminal_approach_radar_environment, note that the significance is adjusted using Bonferroni method)"
   ]
  },
  {
   "cell_type": "markdown",
   "id": "54ca5543",
   "metadata": {},
   "source": [
    "## Data Manipulation"
   ]
  },
  {
   "cell_type": "markdown",
   "id": "c606a56a",
   "metadata": {},
   "source": [
    "We copy our data to 'data_chaid' dataframe.\n",
    "\n",
    "First, we handle missing values, then encode all predictors as numerical."
   ]
  },
  {
   "cell_type": "code",
   "execution_count": 28,
   "id": "c6a67920",
   "metadata": {},
   "outputs": [],
   "source": [
    "data_chaid = data.copy()"
   ]
  },
  {
   "cell_type": "markdown",
   "id": "ad9b0253",
   "metadata": {},
   "source": [
    "### Missing values"
   ]
  },
  {
   "cell_type": "code",
   "execution_count": 29,
   "id": "193fe39e",
   "metadata": {},
   "outputs": [],
   "source": [
    "# TODO: Handle missing values for both predictors and target\n",
    "\n",
    "data_chaid=data_chaid[pd.isnull(data_chaid['RainTomorrow'])==False] #(TODO)\n",
    "data_chaid=data_chaid #(TODO) no need to fill missing predictors in this implementation"
   ]
  },
  {
   "cell_type": "markdown",
   "id": "6c987341",
   "metadata": {},
   "source": [
    "### Predictor type"
   ]
  },
  {
   "cell_type": "code",
   "execution_count": 30,
   "id": "72d14ee2",
   "metadata": {},
   "outputs": [
    {
     "data": {
      "text/plain": [
       "Date             datetime64[ns]\n",
       "MinTemp                 float64\n",
       "MaxTemp                 float64\n",
       "Sunshine                float64\n",
       "WindGustSpeed           float64\n",
       "Humidity9am             float64\n",
       "Humidity3pm             float64\n",
       "Pressure9am             float64\n",
       "Pressure3pm             float64\n",
       "RainToday                object\n",
       "RainTomorrow             object\n",
       "dtype: object"
      ]
     },
     "execution_count": 30,
     "metadata": {},
     "output_type": "execute_result"
    }
   ],
   "source": [
    "data_chaid.dtypes"
   ]
  },
  {
   "cell_type": "code",
   "execution_count": 31,
   "id": "c923fc01",
   "metadata": {},
   "outputs": [],
   "source": [
    "# Re-encode. Column 'Date' will not be used for prediction, therefore, no need to encode it. Only 'RainToday' and 'RainTomorrow' should be re-encoded.\n",
    "\n",
    "# TODO: Convert values of 'RainToday' and 'RainTomorrow' into 0-1 encoding. You can use .apply function to use row-by-row notation.\n",
    "data_chaid['RainTodayFlag']=data_chaid['RainToday'].apply(lambda x: 1 if x=='Yes' else 0) #(TODO)\n",
    "data_chaid['RainTomorrowFlag']=data_chaid['RainTomorrow'].apply(lambda x: 1 if x=='Yes' else 0) #(TODO)"
   ]
  },
  {
   "cell_type": "code",
   "execution_count": 32,
   "id": "1179a550",
   "metadata": {},
   "outputs": [],
   "source": [
    "target = 'RainTomorrowFlag'\n",
    "\n",
    "predictors_chaid = list(data_chaid.columns)\n",
    "predictors_chaid.remove('Date') # Date will not be used for training\n",
    "predictors_chaid.remove('RainToday') # We use RainTodayFlag instead\n",
    "predictors_chaid.remove('RainTomorrow') # Target\n",
    "predictors_chaid.remove('RainTomorrowFlag') # Target# We denote 'target' the name of the column with target values. 'predictors' stands for the list of all predictors"
   ]
  },
  {
   "cell_type": "code",
   "execution_count": 33,
   "id": "2d759d22",
   "metadata": {},
   "outputs": [
    {
     "data": {
      "text/plain": [
       "Month\n",
       "201608    1515\n",
       "201607    1511\n",
       "201605    1506\n",
       "201705    1501\n",
       "201610    1499\n",
       "201701    1492\n",
       "201703    1480\n",
       "201603    1465\n",
       "201606    1463\n",
       "201704    1451\n",
       "201601    1451\n",
       "201609    1444\n",
       "201611    1434\n",
       "201604    1434\n",
       "201612    1417\n",
       "201602    1369\n",
       "201702    1345\n",
       "201706    1197\n",
       "Name: count, dtype: int64"
      ]
     },
     "execution_count": 33,
     "metadata": {},
     "output_type": "execute_result"
    }
   ],
   "source": [
    "# Create column 'Month' for future evaluation of the model performance in time\n",
    "data_chaid['Month'] = [s.strftime(\"%Y%m\") for s in data_chaid['Date']]\n",
    "data_chaid['Month'].value_counts()"
   ]
  },
  {
   "cell_type": "code",
   "execution_count": 34,
   "id": "8a6f27f0",
   "metadata": {},
   "outputs": [
    {
     "data": {
      "image/png": "[encoded data removed]",
      "text/plain": [
       "<Figure size 640x480 with 1 Axes>"
      ]
     },
     "metadata": {},
     "output_type": "display_data"
    },
    {
     "data": {
      "image/png": "[encoded data removed]",
      "text/plain": [
       "<Figure size 640x480 with 1 Axes>"
      ]
     },
     "metadata": {},
     "output_type": "display_data"
    },
    {
     "data": {
      "image/png": "[encoded data removed]",
      "text/plain": [
       "<Figure size 640x480 with 1 Axes>"
      ]
     },
     "metadata": {},
     "output_type": "display_data"
    },
    {
     "data": {
      "image/png": "[encoded data removed]",
      "text/plain": [
       "<Figure size 640x480 with 1 Axes>"
      ]
     },
     "metadata": {},
     "output_type": "display_data"
    },
    {
     "data": {
      "image/png": "[encoded data removed]",
      "text/plain": [
       "<Figure size 640x480 with 1 Axes>"
      ]
     },
     "metadata": {},
     "output_type": "display_data"
    },
    {
     "data": {
      "image/png": "[encoded data removed]",
      "text/plain": [
       "<Figure size 640x480 with 1 Axes>"
      ]
     },
     "metadata": {},
     "output_type": "display_data"
    },
    {
     "data": {
      "image/png": "[encoded data removed]",
      "text/plain": [
       "<Figure size 640x480 with 1 Axes>"
      ]
     },
     "metadata": {},
     "output_type": "display_data"
    },
    {
     "data": {
      "image/png": "[encoded data removed]",
      "text/plain": [
       "<Figure size 640x480 with 1 Axes>"
      ]
     },
     "metadata": {},
     "output_type": "display_data"
    },
    {
     "data": {
      "image/png": "[encoded data removed]",
      "text/plain": [
       "<Figure size 640x480 with 1 Axes>"
      ]
     },
     "metadata": {},
     "output_type": "display_data"
    }
   ],
   "source": [
    "# We check the predictors if we can assume that these are continuous\n",
    "\n",
    "for predictor in predictors_chaid:\n",
    "    \n",
    "    plt.hist(data_chaid[predictor], density=True, bins=10)  # density=False would make counts\n",
    "    plt.ylabel('Probability')\n",
    "    plt.xlabel(predictor);\n",
    "\n",
    "    plt.show()"
   ]
  },
  {
   "cell_type": "markdown",
   "id": "a2026691",
   "metadata": {},
   "source": [
    "## Split & categorize"
   ]
  },
  {
   "cell_type": "markdown",
   "id": "285e9e5c",
   "metadata": {},
   "source": [
    "Based on the histograms above we conclude that some of the predictors must be categorized. We do the categorization based on training data only, therefore, now we have to split the dataset."
   ]
  },
  {
   "cell_type": "code",
   "execution_count": 35,
   "id": "3ffd40ff",
   "metadata": {},
   "outputs": [],
   "source": [
    "# Split the data, stratify by month\n",
    "data_chaid_train, data_chaid_test = train_test_split(\n",
    "    data_chaid, test_size=0.2, random_state=17, stratify=data_chaid['Month']\n",
    ")"
   ]
  },
  {
   "cell_type": "code",
   "execution_count": 36,
   "id": "8b28fdde",
   "metadata": {},
   "outputs": [],
   "source": [
    "# Only 'RainTodayFlag' predictor is categorical. The rest is continuous, therefore we have to categorize.\n",
    "\n",
    "n_cat = 10 # number of categories created for each predictor\n",
    "\n",
    "# We store categorized predictors from 'predictors_chaid' to 'predictors_chaid_cat' columns.\n",
    "\n",
    "predictors_chaid_cat = []\n",
    "for predictor in predictors_chaid:\n",
    "    \n",
    "    predictor_cat = predictor+'_cat'\n",
    "    predictors_chaid_cat.append(predictor_cat)\n",
    "    \n",
    "    if (predictor not in ['RainTodayFlag']): # 'RainTodayFlag' need not to be categorized\n",
    "        \n",
    "        # TODO: Categorize given predictor 'predictor' by quantiles using function pd.qcut with 'n_cat' categories. \n",
    "        # Note that in the future we will need to categorize also test data, therefore, label the\n",
    "        # new categories by right-end-point of each interval (np.infty for infinity).\n",
    "        data_chaid_train[predictor_cat] = pd.qcut(data_chaid_train[predictor], q=n_cat, labels=None, duplicates='drop') #(TODO)\n",
    "        data_chaid_train[predictor_cat] = data_chaid_train[predictor_cat].apply(lambda x: x.right).astype(float) #(TODO)\n",
    "        pred_max = data_chaid_train[predictor_cat].max() #(TODO)\n",
    "        data_chaid_train.loc[data_chaid_train[predictor_cat] == pred_max, predictor_cat] = np.infty #(TODO)\n",
    "        \n",
    "    else:\n",
    "        # Already categorized\n",
    "        data_chaid_train[predictor_cat] = data_chaid_train[predictor]\n"
   ]
  },
  {
   "cell_type": "markdown",
   "id": "469acc2e",
   "metadata": {},
   "source": [
    "## Train"
   ]
  },
  {
   "cell_type": "code",
   "execution_count": 37,
   "id": "2fdb3a06",
   "metadata": {},
   "outputs": [
    {
     "name": "stdout",
     "output_type": "stream",
     "text": [
      "*************** Tree Summary ***************\n",
      "Classes:  2\n",
      "Tree Depth:  3\n",
      "No. of features:  9\n",
      "--------------------------------------------------------\n",
      "\n",
      "*************** Evaluation on Training Data ***************\n",
      "Accuracy Score:  0.8380576543625776\n"
     ]
    }
   ],
   "source": [
    "# Now we can fit the model.\n",
    "\n",
    "# The model needs to know if 'ordinal' or 'nominal' predictors are present (only 'nominal' in our case as we have also missing values)\n",
    "independent_columns = dict(zip(predictors_chaid_cat, ['nominal'] * len(predictors_chaid_cat)))\n",
    "\n",
    "# TODO: Choose the parameters carefully. See the algorithm description above.\n",
    "config_chaid = {\n",
    "    'alpha_merge': 0.05, # minimum significance level for categories not to be merged (TODO)\n",
    "    'max_depth': 3, #maximum depth of tree (TODO)\n",
    "    'min_parent_node_size': 30, # minimum number of observations of node for splitting (TODO)\n",
    "    'min_child_node_size': 15, # minimum number of observations in new node (TODO)\n",
    "    'split_threshold': 0, # minimum gain for new split (TODO)\n",
    "}\n",
    "\n",
    "tree_ch = CHAID.Tree.from_pandas_df(\n",
    "    data_chaid_train,\n",
    "    independent_columns,\n",
    "    target,\n",
    "    alpha_merge = config_chaid['alpha_merge'],\n",
    "    max_depth = config_chaid['max_depth'],\n",
    "    min_parent_node_size = config_chaid['min_parent_node_size'],\n",
    "    min_child_node_size = config_chaid['min_child_node_size'],\n",
    "    split_threshold = config_chaid['split_threshold'],\n",
    ")\n",
    "\n",
    "# Tree summary and model evaluation metrics\n",
    "print('*************** Tree Summary ***************')\n",
    "print('Classes: ', len(data_chaid_train[target].unique()))\n",
    "print('Tree Depth: ', tree_ch.max_depth)\n",
    "print('No. of features: ', len(independent_columns))\n",
    "print('--------------------------------------------------------')\n",
    "print(\"\")\n",
    "\n",
    "print('*************** Evaluation on Training Data ***************')\n",
    "print('Accuracy Score: ', tree_ch.accuracy())"
   ]
  },
  {
   "cell_type": "markdown",
   "id": "13220bd8",
   "metadata": {},
   "source": [
    "Note: features_importance not available in this implementation"
   ]
  },
  {
   "cell_type": "markdown",
   "id": "bf9d4a60",
   "metadata": {},
   "source": [
    "## Evaluate"
   ]
  },
  {
   "cell_type": "markdown",
   "id": "0c2ae0d4",
   "metadata": {},
   "source": [
    "We evaluate performance of the model using accuracy month by month.\n",
    "\n",
    "Before we can predict for test data, we have to use the same categorization as for the train data."
   ]
  },
  {
   "cell_type": "markdown",
   "id": "bad0aa8e",
   "metadata": {},
   "source": [
    "### Predict"
   ]
  },
  {
   "cell_type": "code",
   "execution_count": 38,
   "id": "686902b2",
   "metadata": {},
   "outputs": [],
   "source": [
    "# First, we need to categorize the test data in the same way as we have categorized the train data\n",
    "\n",
    "for predictor in predictors_chaid:\n",
    "    \n",
    "    predictor_cat = predictor+'_cat'\n",
    "    \n",
    "    if (predictor not in ['RainTodayFlag']): # 'RainTodayFlag' need not be categorized\n",
    "        \n",
    "        # TODO: Categorize predictor 'predictor' using intervals from train data. Use the function\n",
    "        # pd.cut.\n",
    "        labels=list(data_chaid_train[predictor_cat].unique()) # We take the right-end points of intervals from train data\n",
    "        labels = sorted([x for x in labels if str(x) != 'nan']) # We drop 'nan' end point which stands for missing values\n",
    "        bins = [-np.inf] + labels #(TODO)\n",
    "        data_chaid_test[predictor_cat] = pd.cut(data_chaid_test[predictor], bins=bins, labels=labels, duplicates='drop').astype(float) #(TODO)\n",
    "    else:\n",
    "        # Already categorized\n",
    "        data_chaid_test[predictor_cat] = data_chaid_test[predictor]\n"
   ]
  },
  {
   "cell_type": "code",
   "execution_count": 39,
   "id": "cb1ee751",
   "metadata": {},
   "outputs": [],
   "source": [
    "# Disclaimer: The implementation does not involve method for prediction. Therefore, we use our own implementation.\n",
    "\n",
    "# Leaves of the tree: list of leaves with rules\n",
    "leaves = tree_ch.classification_rules() # Contains rules for leaves\n",
    "nodes = tree_ch.tree_store # Contains predictions for all nodes (not only leaves)\n",
    "\n",
    "def chaid_predict(data):\n",
    "    \"\"\"\n",
    "        Returns prediction of 'target' using trained CHAID tree for one observation by identifying correct leaf.\n",
    "        \n",
    "        Args:\n",
    "            one observation as in format 'data_chaid' with columns 'predictors_chaid_cat'\n",
    "        \n",
    "        Returns:\n",
    "            float: number of positive cases in identified leaf/number of total cases in identified leaf\n",
    "    \"\"\"\n",
    "\n",
    "    # Iterate over all leaves of the tree and find the correct one\n",
    "    for leaf in leaves:\n",
    "        \n",
    "        # List of rules that determine the leaf\n",
    "        rules = leaf['rules']\n",
    "        rule_i = 0\n",
    "\n",
    "        # Evaluate conditions until one fails\n",
    "        is_member = True\n",
    "        while is_member and (rule_i+1<=len(rules)):\n",
    "            \n",
    "            \n",
    "            var_name = rules[rule_i]['variable']\n",
    "            var_val_list = rules[rule_i]['data']\n",
    "            \n",
    "            if data[var_name] not in var_val_list:\n",
    "                is_member = False\n",
    "            \n",
    "            rule_i = rule_i+1\n",
    "            \n",
    "        if is_member: # All conditions met\n",
    "            \n",
    "            zeros = nodes[leaf['node']]._members[0]\n",
    "            ones = nodes[leaf['node']]._members[1]\n",
    "            \n",
    "            return ones/(zeros+ones)\n",
    "        \n",
    "    return None # No leaf found"
   ]
  },
  {
   "cell_type": "code",
   "execution_count": 40,
   "id": "77e292f6",
   "metadata": {},
   "outputs": [],
   "source": [
    "# TODO: Predict target variable on test data in two steps\n",
    "# - use 'chaid_predict' to compute prediction as probability\n",
    "# - convert result to 0/1 values using some threshold (could be done in one step but we want to observer dependence on the threshold)\n",
    "# Finally store the prediction as 'Prediction' column\n",
    "\n",
    "data_chaid_test['Prediction_prob'] = data_chaid_test[predictors_chaid_cat].apply(lambda x: chaid_predict(x), axis=1) #(TODO)\n",
    "data_chaid_test['Prediction'] = (data_chaid_test['Prediction_prob']>=0.5).astype(int) #(TODO)"
   ]
  },
  {
   "cell_type": "markdown",
   "id": "7aade6e1",
   "metadata": {},
   "source": [
    "### Accuracy"
   ]
  },
  {
   "cell_type": "code",
   "execution_count": 41,
   "id": "81324c4d",
   "metadata": {},
   "outputs": [],
   "source": [
    "# Compute accuracy by 'Month'\n",
    "\n",
    "data_chaid_test['Accuracy'] = 1-abs(data_chaid_test[target] - data_chaid_test['Prediction']) #(TODO)\n",
    "data_chaid_accuracy = data_cart_test.groupby('Month')['Accuracy'].mean() #(TODO)"
   ]
  },
  {
   "cell_type": "code",
   "execution_count": 42,
   "id": "23780d15",
   "metadata": {},
   "outputs": [
    {
     "data": {
      "image/png": "[encoded data removed]",
      "text/plain": [
       "<Figure size 640x480 with 1 Axes>"
      ]
     },
     "metadata": {},
     "output_type": "display_data"
    }
   ],
   "source": [
    "# Inspect stability of the model performance in time\n",
    "\n",
    "ax1 = plt.subplot(111)\n",
    "ax1.bar(range(len(data_chaid_accuracy)), data_chaid_accuracy)\n",
    "ax1.set_xticks(range(len(data_chaid_accuracy)))\n",
    "ax1.set_xticklabels(data_chaid_accuracy.index)\n",
    "ax1.set_xlabel('Month')\n",
    "ax1.set_ylabel('Accuracy')\n",
    "\n",
    "plt.show()"
   ]
  },
  {
   "cell_type": "markdown",
   "id": "df1bb83a",
   "metadata": {},
   "source": [
    "# Random forest - manually\n",
    "\n",
    "We build our own random forest based on one of the above trees. This includes randomly selecting predictors and observations for the training.\n",
    "\n",
    "The forest consists of CART trees each trained on a fraction of training data. We observe accuracy on data not used when training given tree (validation data) and assess the whole forest by accuracy on separate test data."
   ]
  },
  {
   "cell_type": "code",
   "execution_count": 1,
   "id": "2520b5ac",
   "metadata": {},
   "outputs": [],
   "source": [
    "import random\n",
    "\n",
    "random.seed(17)"
   ]
  },
  {
   "cell_type": "markdown",
   "id": "578687e3-7656-4cda-a5df-ae52e970bc34",
   "metadata": {},
   "source": [
    "<span style=\"color:red\">**TO DO:** </span> \n",
    "- Adjust parameters as above. Note that reasonable forest should consist of trees with distinct random seeds.\n",
    "- Define 'train_index' a list of indices from 'data_cart_train' to be used for training in given iteration, consider parameter 'p_obs'\n",
    "- Compute predictions using model.predict_proba for 'data_cart_train' and 'data_cart_test' in the first iteration\n",
    "- Compute predictions using model.predict_proba for 'data_cart_train' and 'data_cart_test' after the first iteration\n",
    "- Use threshold to transform probabilities to 0/1 values and store prediction as 'Prediction_forest' column in 'data_cart_train' and 'data_cart_test' datasets"
   ]
  },
  {
   "cell_type": "code",
   "execution_count": 55,
   "id": "7a236736",
   "metadata": {},
   "outputs": [
    {
     "name": "stdout",
     "output_type": "stream",
     "text": [
      "*************** Tree Summary ***************\n",
      "Classes:  [0 1]\n",
      "Tree Depth:  4\n",
      "No. of leaves:  15\n",
      "No. of features:  10\n",
      "--------------------------------------------------------\n",
      "\n",
      "*************** Evaluation After Iteration 1 *********\n",
      "Accuracy Train:  0.8260262765291881\n",
      "Accuracy Valid:  0.8217516843118383\n",
      "--------------------------------------------------------\n",
      "*************** Evaluation After Iteration 2 *********\n",
      "Accuracy Train:  0.8293469368112036\n",
      "Accuracy Valid:  0.8205967276227142\n",
      "--------------------------------------------------------\n",
      "*************** Evaluation After Iteration 3 *********\n",
      "Accuracy Train:  0.8312238317532123\n",
      "Accuracy Valid:  0.8261790182868143\n",
      "--------------------------------------------------------\n",
      "*************** Evaluation After Iteration 4 *********\n",
      "Accuracy Train:  0.8321863419798835\n",
      "Accuracy Valid:  0.8259865255052936\n",
      "--------------------------------------------------------\n",
      "*************** Evaluation After Iteration 5 *********\n",
      "Accuracy Train:  0.8325713460705519\n",
      "Accuracy Valid:  0.8282964388835419\n",
      "--------------------------------------------------------\n",
      "*************** Evaluation After Iteration 6 *********\n",
      "Accuracy Train:  0.8319457144232157\n",
      "Accuracy Valid:  0.8261790182868143\n",
      "--------------------------------------------------------\n",
      "*************** Evaluation After Iteration 7 *********\n",
      "Accuracy Train:  0.8319938399345493\n",
      "Accuracy Valid:  0.824446583253128\n",
      "--------------------------------------------------------\n",
      "*************** Evaluation After Iteration 8 *********\n",
      "Accuracy Train:  0.8328119736272198\n",
      "Accuracy Valid:  0.8246390760346487\n",
      "--------------------------------------------------------\n",
      "*************** Evaluation After Iteration 9 *********\n",
      "Accuracy Train:  0.8326194715818855\n",
      "Accuracy Valid:  0.8229066410009624\n",
      "--------------------------------------------------------\n",
      "*************** Evaluation After Iteration 10 *********\n",
      "Accuracy Train:  0.8330526011838876\n",
      "Accuracy Valid:  0.8225216554379211\n",
      "--------------------------------------------------------\n",
      "*************** Evaluation After Iteration 11 *********\n",
      "Accuracy Train:  0.833437605274556\n",
      "Accuracy Valid:  0.8259865255052936\n",
      "--------------------------------------------------------\n",
      "*************** Evaluation After Iteration 12 *********\n",
      "Accuracy Train:  0.8328600991385533\n",
      "Accuracy Valid:  0.8254090471607315\n",
      "--------------------------------------------------------\n",
      "*************** Evaluation After Iteration 13 *********\n",
      "Accuracy Train:  0.833437605274556\n",
      "Accuracy Valid:  0.826371511068335\n",
      "--------------------------------------------------------\n",
      "*************** Evaluation After Iteration 14 *********\n",
      "Accuracy Train:  0.833437605274556\n",
      "Accuracy Valid:  0.826371511068335\n",
      "--------------------------------------------------------\n",
      "*************** Evaluation After Iteration 15 *********\n",
      "Accuracy Train:  0.833774483853891\n",
      "Accuracy Valid:  0.82502406159769\n",
      "--------------------------------------------------------\n",
      "*************** Evaluation After Iteration 16 *********\n",
      "Accuracy Train:  0.8335338562972232\n",
      "Accuracy Valid:  0.8254090471607315\n",
      "--------------------------------------------------------\n",
      "*************** Evaluation After Iteration 17 *********\n",
      "Accuracy Train:  0.833774483853891\n",
      "Accuracy Valid:  0.8259865255052936\n",
      "--------------------------------------------------------\n",
      "*************** Evaluation After Iteration 18 *********\n",
      "Accuracy Train:  0.833437605274556\n",
      "Accuracy Valid:  0.826371511068335\n",
      "--------------------------------------------------------\n",
      "*************** Evaluation After Iteration 19 *********\n",
      "Accuracy Train:  0.8331969777178883\n",
      "Accuracy Valid:  0.8259865255052936\n",
      "--------------------------------------------------------\n",
      "*************** Evaluation After Iteration 20 *********\n",
      "Accuracy Train:  0.8330044756725541\n",
      "Accuracy Valid:  0.8248315688161694\n",
      "--------------------------------------------------------\n"
     ]
    }
   ],
   "source": [
    "# Meta parameters\n",
    "target = 'RainTomorrowFlag'\n",
    "\n",
    "n_models = 20 # Number of trees in ensemble\n",
    "p_obs = 0.1 # Prob. that observation is chosen for training of a given tree\n",
    "\n",
    "criterion = 'gini'\n",
    "splitter='best'\n",
    "mdepth = 4\n",
    "min_samples_split = 10\n",
    "min_samples_leaf = 0.01\n",
    "random_state = 17\n",
    "\n",
    "\n",
    "# We fit 'n_models' models and store them into list\n",
    "clf_list = []\n",
    "for n in range(n_models):\n",
    "    \n",
    "    # TODO: Define 'train_index' a list of indices from 'data_cart_train' to be used for training in given iteration, consider parameter 'p_obs'\n",
    "    train_index = random.sample(list(data_cart_train.index), int(p_obs*len(data_cart_train))) \n",
    "\n",
    "    # Init the model\n",
    "    model = tree.DecisionTreeClassifier(\n",
    "        criterion=criterion,\n",
    "        splitter=splitter, \n",
    "        max_depth=mdepth,\n",
    "        min_samples_split=min_samples_split,\n",
    "        min_samples_leaf=min_samples_leaf, \n",
    "        random_state=n,\n",
    "    )\n",
    "\n",
    "    clf = model.fit(data_cart_train.loc[train_index, predictors], data_cart_train.loc[train_index, target])\n",
    "    \n",
    "    clf_list = clf_list + [model]\n",
    "\n",
    "    if n==0:\n",
    "        # Tree summary and model evaluation metrics\n",
    "        print('*************** Tree Summary ***************')\n",
    "        print('Classes: ', clf.classes_)\n",
    "        print('Tree Depth: ', clf.tree_.max_depth)\n",
    "        print('No. of leaves: ', clf.tree_.n_leaves)\n",
    "        print('No. of features: ', clf.n_features_in_)\n",
    "        print('--------------------------------------------------------')\n",
    "        print(\"\")\n",
    "        \n",
    "        # TODO: Compute predictions using model.predict_proba for 'data_cart_train' and 'data_cart_test' in the first iteration\n",
    "        data_cart_train['Prediction_forest_prob'] = model.predict_proba(data_cart_train[predictors])[:,1] \n",
    "        data_cart_test['Prediction_forest_prob'] = model.predict_proba(data_cart_test[predictors])[:,1] \n",
    "    \n",
    "    else:\n",
    "        # TODO: Compute predictions using model.predict_proba for 'data_cart_train' and 'data_cart_test' after the first iteration\n",
    "        data_cart_train['Prediction_forest_prob'] = 1/(n+1)*(data_cart_train['Prediction_forest_prob']*n + model.predict_proba(data_cart_train[predictors])[:,1])\n",
    "        data_cart_test['Prediction_forest_prob'] = 1/(n+1)*(data_cart_test['Prediction_forest_prob']*n + model.predict_proba(data_cart_test[predictors])[:,1]) \n",
    "    \n",
    "    # TODO: Use threshold to transform probabilities to 0/1 values and store prediction as 'Prediction_forest' column in 'data_cart_train' and 'data_cart_test' datasets\n",
    "    data_cart_train['Prediction_forest'] = (data_cart_train['Prediction_forest_prob']>=0.5).astype(int)\n",
    "    data_cart_test['Prediction_forest'] = (data_cart_test['Prediction_forest_prob']>=0.5).astype(int)\n",
    "\n",
    "    print('*************** Evaluation After Iteration '+str(n+1)+' *********')\n",
    "    score_te = 1-abs(data_cart_train['Prediction_forest']-data_cart_train[target]).mean()\n",
    "    print('Accuracy Train: ', score_te)\n",
    "    score_tr = 1-abs(data_cart_test['Prediction_forest']-data_cart_test[target]).mean()\n",
    "    print('Accuracy Valid: ', score_tr)\n",
    "    print('--------------------------------------------------------')\n"
   ]
  },
  {
   "cell_type": "markdown",
   "id": "9f81617d",
   "metadata": {},
   "source": [
    "Now we evaluate the performance of our forest. Prediction is simple average of predictions over different trees."
   ]
  },
  {
   "cell_type": "markdown",
   "id": "0d56a929",
   "metadata": {},
   "source": [
    "# Bonus task\n",
    "\n",
    "Use different approach for training our random forest: Choose randomly predictors which will be used for training each of the tree."
   ]
  },
  {
   "cell_type": "markdown",
   "id": "b402a785",
   "metadata": {},
   "source": [
    "# Random forest"
   ]
  },
  {
   "cell_type": "markdown",
   "id": "10bd37ca",
   "metadata": {},
   "source": [
    "For this task we use different data points from the same dataset as above. Therefore, we reload the data."
   ]
  },
  {
   "cell_type": "markdown",
   "id": "64522925",
   "metadata": {},
   "source": [
    "## Load data\n",
    "\n",
    "Weather data from Australia. The task is to predict if tomorrow is going to rain based on today's weather characteristics.\n",
    "\n",
    "Source: https://www.kaggle.com/jsphyg/weather-dataset-rattle-package\n",
    "\n",
    "**Target description**\n",
    "\n",
    "- MaxTemp: The maximum temperature in degrees celsius\n",
    "\n",
    "**Predictors description**\n",
    "\n",
    "- Rainfall: The amount of rainfall recorded for the day in mm\n",
    "- Evaporation: The so-called Class A pan evaporation (mm) in the 24 hours to 9am\n",
    "- Sunshine: The number of hours of bright sunshine in the day.\n",
    "- Location: The common name of the location of the weather station\n",
    "- WindGustSpeed: The speed (km/h) of the strongest wind gust in the 24 hours to midnight\n",
    "- WindDir9am: Direction of the wind at 9am\n",
    "- WindDir3pm: Direction of the wind at 3pm\n",
    "- Humidity9am:Humidity (percent) at 9am\n",
    "- Humidity3pm: Humidity (percent) at 3pm\n",
    "- Pressure9am: Atmospheric pressure (hpa) reduced to mean sea level at 9am\n",
    "- Pressure3pm: Atmospheric pressure (hpa) reduced to mean sea level at 3pm\n",
    "- Cloud9am: Fraction of sky obscured by cloud at 9am. This is measured in \"oktas\", which are a unit of eigths. It records how many eigths of the sky are obscured by cloud. A 0 measure indicates completely clear sky whilst an 8 indicates that it is completely overcast.\n",
    "- Clousd3pm: Fraction of sky obscured by cloud (in \"oktas\": eighths) at 3pm. See Cload9am for a description of the values\n",
    "\n",
    "\n"
   ]
  },
  {
   "cell_type": "code",
   "execution_count": 56,
   "id": "58248516",
   "metadata": {},
   "outputs": [
    {
     "name": "stdout",
     "output_type": "stream",
     "text": [
      "Number of rows:      9820\n",
      "Number of columns:   14\n"
     ]
    }
   ],
   "source": [
    "# Import dataset\n",
    "data_file = Path(\"../Data/weatherAUS.csv\")\n",
    "data = pd.read_csv(data_file, encoding='utf-8')\n",
    "\n",
    "# Keep only specified columns and rows\n",
    "columns = [\"Rainfall\", \"Evaporation\", \"Sunshine\", \"Location\", \"WindGustSpeed\", \"WindDir9am\", \"WindDir3pm\", \"Humidity9am\", \"Humidity3pm\",  \"Pressure9am\", \"Pressure3pm\", \"Cloud9am\", \"Cloud3pm\", \"MaxTemp\"]\n",
    "data_forest = data.loc[data['Location'].isin([\"Canberra\", \"Sydney\", \"Albury\"]), columns]\n",
    "\n",
    "print(f'Number of rows:      {data_forest.shape[0]}')\n",
    "print(f'Number of columns:   {data_forest.shape[1]}')"
   ]
  },
  {
   "cell_type": "code",
   "execution_count": 57,
   "id": "d627c714",
   "metadata": {},
   "outputs": [
    {
     "data": {
      "text/html": [
       "<div>\n",
       "<style scoped>\n",
       "    .dataframe tbody tr th:only-of-type {\n",
       "        vertical-align: middle;\n",
       "    }\n",
       "\n",
       "    .dataframe tbody tr th {\n",
       "        vertical-align: top;\n",
       "    }\n",
       "\n",
       "    .dataframe thead th {\n",
       "        text-align: right;\n",
       "    }\n",
       "</style>\n",
       "<table border=\"1\" class=\"dataframe\">\n",
       "  <thead>\n",
       "    <tr style=\"text-align: right;\">\n",
       "      <th></th>\n",
       "      <th>Rainfall</th>\n",
       "      <th>Evaporation</th>\n",
       "      <th>Sunshine</th>\n",
       "      <th>Location</th>\n",
       "      <th>WindGustSpeed</th>\n",
       "      <th>WindDir9am</th>\n",
       "      <th>WindDir3pm</th>\n",
       "      <th>Humidity9am</th>\n",
       "      <th>Humidity3pm</th>\n",
       "      <th>Pressure9am</th>\n",
       "      <th>Pressure3pm</th>\n",
       "      <th>Cloud9am</th>\n",
       "      <th>Cloud3pm</th>\n",
       "      <th>MaxTemp</th>\n",
       "    </tr>\n",
       "  </thead>\n",
       "  <tbody>\n",
       "    <tr>\n",
       "      <th>0</th>\n",
       "      <td>0.6</td>\n",
       "      <td>NaN</td>\n",
       "      <td>NaN</td>\n",
       "      <td>Albury</td>\n",
       "      <td>44.0</td>\n",
       "      <td>W</td>\n",
       "      <td>WNW</td>\n",
       "      <td>71.0</td>\n",
       "      <td>22.0</td>\n",
       "      <td>1007.7</td>\n",
       "      <td>1007.1</td>\n",
       "      <td>8.0</td>\n",
       "      <td>NaN</td>\n",
       "      <td>22.9</td>\n",
       "    </tr>\n",
       "    <tr>\n",
       "      <th>1</th>\n",
       "      <td>0.0</td>\n",
       "      <td>NaN</td>\n",
       "      <td>NaN</td>\n",
       "      <td>Albury</td>\n",
       "      <td>44.0</td>\n",
       "      <td>NNW</td>\n",
       "      <td>WSW</td>\n",
       "      <td>44.0</td>\n",
       "      <td>25.0</td>\n",
       "      <td>1010.6</td>\n",
       "      <td>1007.8</td>\n",
       "      <td>NaN</td>\n",
       "      <td>NaN</td>\n",
       "      <td>25.1</td>\n",
       "    </tr>\n",
       "    <tr>\n",
       "      <th>2</th>\n",
       "      <td>0.0</td>\n",
       "      <td>NaN</td>\n",
       "      <td>NaN</td>\n",
       "      <td>Albury</td>\n",
       "      <td>46.0</td>\n",
       "      <td>W</td>\n",
       "      <td>WSW</td>\n",
       "      <td>38.0</td>\n",
       "      <td>30.0</td>\n",
       "      <td>1007.6</td>\n",
       "      <td>1008.7</td>\n",
       "      <td>NaN</td>\n",
       "      <td>2.0</td>\n",
       "      <td>25.7</td>\n",
       "    </tr>\n",
       "    <tr>\n",
       "      <th>3</th>\n",
       "      <td>0.0</td>\n",
       "      <td>NaN</td>\n",
       "      <td>NaN</td>\n",
       "      <td>Albury</td>\n",
       "      <td>24.0</td>\n",
       "      <td>SE</td>\n",
       "      <td>E</td>\n",
       "      <td>45.0</td>\n",
       "      <td>16.0</td>\n",
       "      <td>1017.6</td>\n",
       "      <td>1012.8</td>\n",
       "      <td>NaN</td>\n",
       "      <td>NaN</td>\n",
       "      <td>28.0</td>\n",
       "    </tr>\n",
       "    <tr>\n",
       "      <th>4</th>\n",
       "      <td>1.0</td>\n",
       "      <td>NaN</td>\n",
       "      <td>NaN</td>\n",
       "      <td>Albury</td>\n",
       "      <td>41.0</td>\n",
       "      <td>ENE</td>\n",
       "      <td>NW</td>\n",
       "      <td>82.0</td>\n",
       "      <td>33.0</td>\n",
       "      <td>1010.8</td>\n",
       "      <td>1006.0</td>\n",
       "      <td>7.0</td>\n",
       "      <td>8.0</td>\n",
       "      <td>32.3</td>\n",
       "    </tr>\n",
       "  </tbody>\n",
       "</table>\n",
       "</div>"
      ],
      "text/plain": [
       "   Rainfall  Evaporation  Sunshine Location  WindGustSpeed WindDir9am  \\\n",
       "0       0.6          NaN       NaN   Albury           44.0          W   \n",
       "1       0.0          NaN       NaN   Albury           44.0        NNW   \n",
       "2       0.0          NaN       NaN   Albury           46.0          W   \n",
       "3       0.0          NaN       NaN   Albury           24.0         SE   \n",
       "4       1.0          NaN       NaN   Albury           41.0        ENE   \n",
       "\n",
       "  WindDir3pm  Humidity9am  Humidity3pm  Pressure9am  Pressure3pm  Cloud9am  \\\n",
       "0        WNW         71.0         22.0       1007.7       1007.1       8.0   \n",
       "1        WSW         44.0         25.0       1010.6       1007.8       NaN   \n",
       "2        WSW         38.0         30.0       1007.6       1008.7       NaN   \n",
       "3          E         45.0         16.0       1017.6       1012.8       NaN   \n",
       "4         NW         82.0         33.0       1010.8       1006.0       7.0   \n",
       "\n",
       "   Cloud3pm  MaxTemp  \n",
       "0       NaN     22.9  \n",
       "1       NaN     25.1  \n",
       "2       2.0     25.7  \n",
       "3       NaN     28.0  \n",
       "4       8.0     32.3  "
      ]
     },
     "execution_count": 57,
     "metadata": {},
     "output_type": "execute_result"
    }
   ],
   "source": [
    "data_forest.head()"
   ]
  },
  {
   "cell_type": "code",
   "execution_count": 58,
   "id": "bd888114",
   "metadata": {},
   "outputs": [
    {
     "data": {
      "text/html": [
       "<div>\n",
       "<style scoped>\n",
       "    .dataframe tbody tr th:only-of-type {\n",
       "        vertical-align: middle;\n",
       "    }\n",
       "\n",
       "    .dataframe tbody tr th {\n",
       "        vertical-align: top;\n",
       "    }\n",
       "\n",
       "    .dataframe thead th {\n",
       "        text-align: right;\n",
       "    }\n",
       "</style>\n",
       "<table border=\"1\" class=\"dataframe\">\n",
       "  <thead>\n",
       "    <tr style=\"text-align: right;\">\n",
       "      <th></th>\n",
       "      <th>Rainfall</th>\n",
       "      <th>Evaporation</th>\n",
       "      <th>Sunshine</th>\n",
       "      <th>WindGustSpeed</th>\n",
       "      <th>Humidity9am</th>\n",
       "      <th>Humidity3pm</th>\n",
       "      <th>Pressure9am</th>\n",
       "      <th>Pressure3pm</th>\n",
       "      <th>Cloud9am</th>\n",
       "      <th>Cloud3pm</th>\n",
       "      <th>MaxTemp</th>\n",
       "    </tr>\n",
       "  </thead>\n",
       "  <tbody>\n",
       "    <tr>\n",
       "      <th>count</th>\n",
       "      <td>9766.000000</td>\n",
       "      <td>5125.000000</td>\n",
       "      <td>4849.000000</td>\n",
       "      <td>8413.000000</td>\n",
       "      <td>9733.00000</td>\n",
       "      <td>9787.000000</td>\n",
       "      <td>9568.000000</td>\n",
       "      <td>9572.000000</td>\n",
       "      <td>6429.000000</td>\n",
       "      <td>6381.000000</td>\n",
       "      <td>9804.000000</td>\n",
       "    </tr>\n",
       "    <tr>\n",
       "      <th>mean</th>\n",
       "      <td>2.335716</td>\n",
       "      <td>4.906985</td>\n",
       "      <td>7.249350</td>\n",
       "      <td>37.994532</td>\n",
       "      <td>71.77489</td>\n",
       "      <td>49.477164</td>\n",
       "      <td>1018.567642</td>\n",
       "      <td>1016.009893</td>\n",
       "      <td>4.877430</td>\n",
       "      <td>4.677010</td>\n",
       "      <td>22.181212</td>\n",
       "    </tr>\n",
       "    <tr>\n",
       "      <th>std</th>\n",
       "      <td>7.572024</td>\n",
       "      <td>2.860485</td>\n",
       "      <td>3.700336</td>\n",
       "      <td>13.868385</td>\n",
       "      <td>16.07486</td>\n",
       "      <td>18.459631</td>\n",
       "      <td>7.292818</td>\n",
       "      <td>7.095972</td>\n",
       "      <td>2.868282</td>\n",
       "      <td>2.774586</td>\n",
       "      <td>6.601008</td>\n",
       "    </tr>\n",
       "    <tr>\n",
       "      <th>min</th>\n",
       "      <td>0.000000</td>\n",
       "      <td>0.000000</td>\n",
       "      <td>0.000000</td>\n",
       "      <td>9.000000</td>\n",
       "      <td>18.00000</td>\n",
       "      <td>4.000000</td>\n",
       "      <td>986.700000</td>\n",
       "      <td>982.900000</td>\n",
       "      <td>0.000000</td>\n",
       "      <td>0.000000</td>\n",
       "      <td>4.100000</td>\n",
       "    </tr>\n",
       "    <tr>\n",
       "      <th>25%</th>\n",
       "      <td>0.000000</td>\n",
       "      <td>2.800000</td>\n",
       "      <td>4.600000</td>\n",
       "      <td>28.000000</td>\n",
       "      <td>61.00000</td>\n",
       "      <td>36.000000</td>\n",
       "      <td>1013.700000</td>\n",
       "      <td>1011.200000</td>\n",
       "      <td>2.000000</td>\n",
       "      <td>2.000000</td>\n",
       "      <td>17.100000</td>\n",
       "    </tr>\n",
       "    <tr>\n",
       "      <th>50%</th>\n",
       "      <td>0.000000</td>\n",
       "      <td>4.400000</td>\n",
       "      <td>8.200000</td>\n",
       "      <td>37.000000</td>\n",
       "      <td>72.00000</td>\n",
       "      <td>49.000000</td>\n",
       "      <td>1018.600000</td>\n",
       "      <td>1016.000000</td>\n",
       "      <td>6.000000</td>\n",
       "      <td>5.000000</td>\n",
       "      <td>21.900000</td>\n",
       "    </tr>\n",
       "    <tr>\n",
       "      <th>75%</th>\n",
       "      <td>0.600000</td>\n",
       "      <td>6.800000</td>\n",
       "      <td>10.100000</td>\n",
       "      <td>46.000000</td>\n",
       "      <td>84.00000</td>\n",
       "      <td>61.000000</td>\n",
       "      <td>1023.500000</td>\n",
       "      <td>1020.800000</td>\n",
       "      <td>8.000000</td>\n",
       "      <td>7.000000</td>\n",
       "      <td>26.700000</td>\n",
       "    </tr>\n",
       "    <tr>\n",
       "      <th>max</th>\n",
       "      <td>119.400000</td>\n",
       "      <td>20.000000</td>\n",
       "      <td>13.600000</td>\n",
       "      <td>107.000000</td>\n",
       "      <td>100.00000</td>\n",
       "      <td>100.000000</td>\n",
       "      <td>1040.600000</td>\n",
       "      <td>1037.900000</td>\n",
       "      <td>9.000000</td>\n",
       "      <td>8.000000</td>\n",
       "      <td>45.800000</td>\n",
       "    </tr>\n",
       "  </tbody>\n",
       "</table>\n",
       "</div>"
      ],
      "text/plain": [
       "          Rainfall  Evaporation     Sunshine  WindGustSpeed  Humidity9am  \\\n",
       "count  9766.000000  5125.000000  4849.000000    8413.000000   9733.00000   \n",
       "mean      2.335716     4.906985     7.249350      37.994532     71.77489   \n",
       "std       7.572024     2.860485     3.700336      13.868385     16.07486   \n",
       "min       0.000000     0.000000     0.000000       9.000000     18.00000   \n",
       "25%       0.000000     2.800000     4.600000      28.000000     61.00000   \n",
       "50%       0.000000     4.400000     8.200000      37.000000     72.00000   \n",
       "75%       0.600000     6.800000    10.100000      46.000000     84.00000   \n",
       "max     119.400000    20.000000    13.600000     107.000000    100.00000   \n",
       "\n",
       "       Humidity3pm  Pressure9am  Pressure3pm     Cloud9am     Cloud3pm  \\\n",
       "count  9787.000000  9568.000000  9572.000000  6429.000000  6381.000000   \n",
       "mean     49.477164  1018.567642  1016.009893     4.877430     4.677010   \n",
       "std      18.459631     7.292818     7.095972     2.868282     2.774586   \n",
       "min       4.000000   986.700000   982.900000     0.000000     0.000000   \n",
       "25%      36.000000  1013.700000  1011.200000     2.000000     2.000000   \n",
       "50%      49.000000  1018.600000  1016.000000     6.000000     5.000000   \n",
       "75%      61.000000  1023.500000  1020.800000     8.000000     7.000000   \n",
       "max     100.000000  1040.600000  1037.900000     9.000000     8.000000   \n",
       "\n",
       "           MaxTemp  \n",
       "count  9804.000000  \n",
       "mean     22.181212  \n",
       "std       6.601008  \n",
       "min       4.100000  \n",
       "25%      17.100000  \n",
       "50%      21.900000  \n",
       "75%      26.700000  \n",
       "max      45.800000  "
      ]
     },
     "execution_count": 58,
     "metadata": {},
     "output_type": "execute_result"
    }
   ],
   "source": [
    "# Descriptive statistics: note that only numerical features are included\n",
    "data_forest.describe()"
   ]
  },
  {
   "cell_type": "markdown",
   "id": "01074982",
   "metadata": {},
   "source": [
    "## Data manipulation"
   ]
  },
  {
   "cell_type": "code",
   "execution_count": 59,
   "id": "3a3617d9",
   "metadata": {},
   "outputs": [
    {
     "data": {
      "text/plain": [
       "Rainfall           54\n",
       "Evaporation      4695\n",
       "Sunshine         4971\n",
       "Location            0\n",
       "WindGustSpeed    1407\n",
       "WindDir9am       1122\n",
       "WindDir3pm        307\n",
       "Humidity9am        87\n",
       "Humidity3pm        33\n",
       "Pressure9am       252\n",
       "Pressure3pm       248\n",
       "Cloud9am         3391\n",
       "Cloud3pm         3439\n",
       "MaxTemp            16\n",
       "dtype: int64"
      ]
     },
     "execution_count": 59,
     "metadata": {},
     "output_type": "execute_result"
    }
   ],
   "source": [
    "# Number of missing values in each column\n",
    "data_forest.isna().sum()"
   ]
  },
  {
   "cell_type": "code",
   "execution_count": 60,
   "id": "b1e347d8",
   "metadata": {},
   "outputs": [
    {
     "data": {
      "text/plain": [
       "Rainfall         float64\n",
       "Evaporation      float64\n",
       "Sunshine         float64\n",
       "Location          object\n",
       "WindGustSpeed    float64\n",
       "WindDir9am        object\n",
       "WindDir3pm        object\n",
       "Humidity9am      float64\n",
       "Humidity3pm      float64\n",
       "Pressure9am      float64\n",
       "Pressure3pm      float64\n",
       "Cloud9am         float64\n",
       "Cloud3pm         float64\n",
       "MaxTemp          float64\n",
       "dtype: object"
      ]
     },
     "execution_count": 60,
     "metadata": {},
     "output_type": "execute_result"
    }
   ],
   "source": [
    "# We treat numerical and categorical features differently\n",
    "data_forest.dtypes"
   ]
  },
  {
   "cell_type": "code",
   "execution_count": 61,
   "id": "02309b75",
   "metadata": {},
   "outputs": [],
   "source": [
    "# We denote 'target' the name of the column with target values. \n",
    "# 'predictors_cat' stands for the list categorical predictors\n",
    "# 'predictors_num' stands for the list numerical predictors\n",
    "\n",
    "target = \"MaxTemp\"\n",
    "\n",
    "predictors_cat = list(data_forest.columns[[data_forest[col].dtype == 'object' for col in data_forest.columns]])\n",
    "predictors_num = list(data_forest.columns[[data_forest[col].dtype != 'object' for col in data_forest.columns]])\n",
    "predictors_num.remove(target)"
   ]
  },
  {
   "cell_type": "code",
   "execution_count": 62,
   "id": "ab77c244",
   "metadata": {},
   "outputs": [],
   "source": [
    "# Drop rows with missing target\n",
    "data_forest=data_forest[pd.isnull(data_forest[target])==False]"
   ]
  },
  {
   "cell_type": "markdown",
   "id": "bdbf4dac",
   "metadata": {},
   "source": [
    "### Numerical features"
   ]
  },
  {
   "cell_type": "code",
   "execution_count": 71,
   "id": "91de081e",
   "metadata": {},
   "outputs": [],
   "source": [
    "# Handle missing values for predictors in a fast manner, optimal would be to consider missing as another category\n",
    "data_forest[predictors_num]=data_forest[predictors_num].fillna(data_forest[predictors_num].mean()) "
   ]
  },
  {
   "cell_type": "code",
   "execution_count": 72,
   "id": "32043ddd-6ba9-4cf1-acba-e998f328fc57",
   "metadata": {},
   "outputs": [],
   "source": [
    "# Split the data. \n",
    "X_train, X_test = train_test_split(data_forest, test_size=0.2, random_state=17)\n",
    "\n",
    "data_forest.loc[X_train.index, 'sample'] = 'train'\n",
    "data_forest.loc[X_test.index, 'sample'] = 'test'\n",
    "\n",
    "# define sample masks\n",
    "train_mask = (data_forest['sample'] == 'train')\n",
    "test_mask = (data_forest['sample'] == 'test')"
   ]
  },
  {
   "cell_type": "markdown",
   "id": "d3b17700",
   "metadata": {},
   "source": [
    "### Categorical features\n",
    "\n",
    "Two possible approaches:\n",
    "\n",
    "- one-hot encoding\n",
    "- mean-target encoding\n",
    "\n",
    "We investigate both of them separately.\n",
    "\n",
    "After this section, predictors_one_hot contain predictors_cat one-hot-encoded and predictors_mean_target contain predictors_cat mean-target-encoded."
   ]
  },
  {
   "cell_type": "markdown",
   "id": "fac49805-e2e0-4b93-bfba-f4cc8fd727c3",
   "metadata": {},
   "source": [
    "<span style=\"color:red\">**TO DO:** </span> \\\n",
    "Use pd.get_dummies to encode categorical predictors. Store the result to 'data_one_hot' dataframe"
   ]
  },
  {
   "cell_type": "code",
   "execution_count": 73,
   "id": "c657a2c0",
   "metadata": {},
   "outputs": [],
   "source": [
    "# One-hot encoding. Names of columns of new columns will be stored in 'predictors_one_hot'\n",
    "\n",
    "predictors_one_hot = []\n",
    "for pred in predictors_cat:\n",
    "    \n",
    "    # TODO: Use pd.get_dummies to encode categorical predictors. Store the result to 'data_one_hot' dataframe\n",
    "    # (only columns containing encoded values)\n",
    "    data_one_hot =pd.get_dummies(data_forest[pred])\n",
    "    data_one_hot.columns = [pred+col for col in data_one_hot.columns] \n",
    "    \n",
    "    # Join to data\n",
    "    data_forest = pd.concat([data_forest, data_one_hot], axis=1)\n",
    "    \n",
    "    # Keep new predictors names\n",
    "    predictors_one_hot = predictors_one_hot + list(data_one_hot.columns)\n",
    "    \n"
   ]
  },
  {
   "cell_type": "markdown",
   "id": "fe241249",
   "metadata": {},
   "source": [
    "Now, we create function that computes encoding values for given predictor.\n",
    "\n",
    "For binary target, the encoding for given predictor and category is given as a convex combination of mean target value for observations in the category and mean target value for the whole dataset:\n",
    "\n",
    "\\begin{align*}\n",
    "\\frac{\\frac{count_{cat}}{count_{all}}*mean\\_target_{cat}+\\alpha*mean\\_target_{all}}{\\frac{count_{cat}}{count_{all}}+\\alpha},\n",
    "\\end{align*}\n",
    "where $\\alpha$ is a chosen parameter."
   ]
  },
  {
   "cell_type": "code",
   "execution_count": 74,
   "id": "4ca296af",
   "metadata": {},
   "outputs": [],
   "source": [
    "# Mean-target encoding - notice that we are doing only in-sample encoding\n",
    "\n",
    "def mean_target_encoding(data, predictor, target, alpha = 0.01):\n",
    "    \n",
    "    \"\"\"\n",
    "    - Args:\n",
    "        data: dataset\n",
    "        predictor: column name for predictor in data to be encoded\n",
    "        target: column name for target\n",
    "        alpha: parameter in mean-target-encoding (float)\n",
    "        \n",
    "    - Returns:\n",
    "        Dict: key = category in 'predictor', value = encoded category based on 'target' using mean-target encoding with parameter 'alpha'\n",
    "    \"\"\"\n",
    "    \n",
    "    data[predictor] = data[predictor].fillna(\"MISSING\")\n",
    "    \n",
    "    # Create dataframe category that contains at least two columns:\n",
    "    # column predictor (use the parameter of the function) contains unique category values for given predictor\n",
    "    # column 'encoding' contains mean-target-encoding for given category computed as above\n",
    "    # Keep in mind, that whenever you apply 'groupby' you have to specify 'dropna'=False to keep also observations with missing values\n",
    "    \n",
    "    mean_target_total = np.mean(data[target]) \n",
    "    count_total = len(data)\n",
    "    \n",
    "    category = data.groupby(predictor, dropna=False).agg( \n",
    "        mean_target = (target, 'mean'),\n",
    "        count = (target, len)\n",
    "    )\n",
    "    \n",
    "    category['frequency'] = category['count'] / count_total \n",
    "    category['encoding'] = (category['frequency'] * category['mean_target'] + alpha * mean_target_total) / (category['frequency'] + alpha)\n",
    "    \n",
    "    # Create dictionary storing our encoding\n",
    "    encoding = dict(zip(category.index,category['encoding']))\n",
    "    \n",
    "    return encoding\n",
    "\n"
   ]
  },
  {
   "cell_type": "code",
   "execution_count": 75,
   "id": "e161405d",
   "metadata": {},
   "outputs": [],
   "source": [
    "# Apply encoding. Names of columns of new columns will be stored in 'predictors_mean_target'\n",
    "\n",
    "predictors_mean_target = []\n",
    "encodings = {}\n",
    "for pred in predictors_cat:\n",
    "    \n",
    "    # New predictor name contains 'MT' and former predictor name\n",
    "    pred_mean_target = pred + \"MT\"\n",
    "    \n",
    "    # First, compute the encoding for given predictor. Then apply using 'map' method\n",
    "    # that works on data frames and store values to 'data_forest[pred_mean_target]'\n",
    "    \n",
    "    encodings[pred_mean_target] = mean_target_encoding(data_forest[train_mask], pred, target) \n",
    "    data_forest[pred_mean_target] = data_forest[pred].map(encodings[pred_mean_target]).fillna(sum(encodings[pred_mean_target].values()) / len(encodings[pred_mean_target]))\n",
    "    \n",
    "    # Keep new predictors names\n",
    "    predictors_mean_target = predictors_mean_target + [pred_mean_target]"
   ]
  },
  {
   "cell_type": "code",
   "execution_count": 76,
   "id": "814967d7",
   "metadata": {
    "scrolled": true
   },
   "outputs": [
    {
     "data": {
      "image/png": "[encoded data removed]",
      "text/plain": [
       "<Figure size 640x480 with 1 Axes>"
      ]
     },
     "metadata": {},
     "output_type": "display_data"
    },
    {
     "data": {
      "image/png": "[encoded data removed]",
      "text/plain": [
       "<Figure size 640x480 with 1 Axes>"
      ]
     },
     "metadata": {},
     "output_type": "display_data"
    },
    {
     "data": {
      "image/png": "[encoded data removed]",
      "text/plain": [
       "<Figure size 640x480 with 1 Axes>"
      ]
     },
     "metadata": {},
     "output_type": "display_data"
    }
   ],
   "source": [
    "# Inspect mean-target encoding\n",
    "\n",
    "for pred in predictors_mean_target:\n",
    "    \n",
    "    temp = encodings[pred]\n",
    "    \n",
    "    # Pyplot does not handle missing values, for some predictors we have to refactor (Warning: this code is data-specific)\n",
    "    if pred != 'LocationMT':\n",
    "        pom = list(temp.keys())[-1]\n",
    "        temp['nan'] = temp.pop(pom)\n",
    "    \n",
    "    # Plot\n",
    "    ax1 = plt.subplot(111)\n",
    "    ax1.bar(range(len(temp)), list(temp.values()))\n",
    "    ax1.set_xticks(range(len(temp)))\n",
    "    ax1.set_xticklabels(temp.keys(), rotation=60)\n",
    "    ax1.set_xlabel('Category')\n",
    "    ax1.set_ylabel('Mean-target')\n",
    "\n",
    "    plt.show()"
   ]
  },
  {
   "cell_type": "markdown",
   "id": "aaf0e825",
   "metadata": {},
   "source": [
    "## Fit\n",
    "\n",
    "We train separately based on different encodings."
   ]
  },
  {
   "cell_type": "code",
   "execution_count": 77,
   "id": "1d600499",
   "metadata": {},
   "outputs": [],
   "source": [
    "# Split the data. We produce datasets for one-hot and mean-target encodings separately\n",
    "\n",
    "# One-hot encoding\n",
    "X_train_oh =  data_forest[train_mask][predictors_num+predictors_one_hot]\n",
    "y_train_oh = data_forest[train_mask][target]\n",
    "\n",
    "X_test_oh = data_forest[test_mask][predictors_num+predictors_one_hot]\n",
    "y_test_oh = data_forest[test_mask][target]\n",
    "\n",
    "# Mean-target encoding\n",
    "X_train_mt =  data_forest[train_mask][predictors_num+predictors_mean_target]\n",
    "y_train_mt = data_forest[train_mask][target]\n",
    "\n",
    "X_test_mt = data_forest[test_mask][predictors_num+predictors_mean_target]\n",
    "y_test_mt = data_forest[test_mask][target]"
   ]
  },
  {
   "cell_type": "markdown",
   "id": "3ab1b342",
   "metadata": {},
   "source": [
    "### One-hot encoding"
   ]
  },
  {
   "cell_type": "markdown",
   "id": "33dd9f92-f10e-45f6-809c-f0e95df45117",
   "metadata": {},
   "source": [
    "<span style=\"color:red\">**TO DO:** </span> \\\n",
    "Use 'sklearn' documentation to carefully choose parameters, init and fit the model. Use 'X_train_oh' and 'y_train_oh' data defined above."
   ]
  },
  {
   "cell_type": "code",
   "execution_count": null,
   "id": "c24718ef",
   "metadata": {},
   "outputs": [],
   "source": [
    "..."
   ]
  },
  {
   "cell_type": "markdown",
   "id": "67060a1c",
   "metadata": {},
   "source": [
    "### Mean-target encoding"
   ]
  },
  {
   "cell_type": "markdown",
   "id": "4806f932-2a61-4376-b359-c17a6504ff9f",
   "metadata": {},
   "source": [
    "<span style=\"color:red\">**TO DO:** </span> \\\n",
    "Use 'sklearn' documentation to carefully choose parameters, init and fit the model. Use 'X_train_mt' and 'y_train_mt' data defined above."
   ]
  },
  {
   "cell_type": "code",
   "execution_count": null,
   "id": "725161b3",
   "metadata": {},
   "outputs": [],
   "source": [
    "..."
   ]
  },
  {
   "cell_type": "markdown",
   "id": "59191b82",
   "metadata": {},
   "source": [
    "## Evaluate\n",
    "\n",
    "We evaluate both models based on MAE, MAPE and visually by inspecting the prediction errors. We also consider features' importance.\n",
    "\n",
    "In scikit-learn the feature importance is the decrease in node impurity. The key is that it measures the importance only at a node level. Then, all the nodes are weighted by how many samples reach that node."
   ]
  },
  {
   "cell_type": "markdown",
   "id": "24b7552a",
   "metadata": {},
   "source": [
    "### One hot encoding"
   ]
  },
  {
   "cell_type": "code",
   "execution_count": null,
   "id": "f570ad51",
   "metadata": {},
   "outputs": [],
   "source": [
    "# Use the forest's predict method on the test data\n",
    "predictions_oh = rf_oh.predict(X_test_oh)\n",
    "\n",
    "# Calculate MAE\n",
    "absolute_error_oh = abs(predictions_oh - y_test_oh)\n",
    "MAE_oh = round(np.mean(absolute_error_oh), 2)\n",
    "\n",
    "# Calculate MAPE\n",
    "absolute_percentage_error_oh = 100 * (absolute_error_oh / y_test_oh)\n",
    "MAPE_oh = round(np.mean(absolute_percentage_error_oh), 2)\n",
    "\n",
    "# Print\n",
    "print('Mean Absolute Error:', MAE_oh, 'degrees.')\n",
    "print('Mean Absolute Percentage Error:', MAPE_oh, '%.')"
   ]
  },
  {
   "cell_type": "code",
   "execution_count": null,
   "id": "adf096a7",
   "metadata": {},
   "outputs": [],
   "source": [
    "# Get numerical feature importances\n",
    "importances_oh = list(rf_oh.feature_importances_)\n",
    "\n",
    "# List of tuples with variable and importance\n",
    "feature_importances_oh = [(feature, round(importance, 2)) for feature, importance in zip(predictors_num+predictors_one_hot, importances_oh)]\n",
    "\n",
    "# Sort the feature importances by most important first and take only 10 most powerful\n",
    "feature_importances_oh = sorted(feature_importances_oh, key = lambda x: x[1], reverse = True)[:10]\n",
    "\n",
    "# Print out the feature and importances \n",
    "[print('Variable: {:20} Importance: {}'.format(*pair)) for pair in feature_importances_oh];"
   ]
  },
  {
   "cell_type": "markdown",
   "id": "f174f652",
   "metadata": {},
   "source": [
    "### Mean target encoding"
   ]
  },
  {
   "cell_type": "code",
   "execution_count": null,
   "id": "327225e6",
   "metadata": {},
   "outputs": [],
   "source": [
    "# Use the forest's predict method on the test data\n",
    "predictions_mt = rf_mt.predict(X_test_mt)\n",
    "\n",
    "# Calculate MAE\n",
    "absolute_error_mt = abs(predictions_mt - y_test_mt)\n",
    "MAE_mt = round(np.mean(absolute_error_mt), 2)\n",
    "\n",
    "# Calculate MAPE\n",
    "absolute_percentage_error_mt = 100 * (absolute_error_mt / y_test_mt)\n",
    "MAPE_mt = round(np.mean(absolute_percentage_error_mt), 2)\n",
    "\n",
    "# Print\n",
    "print('Mean Absolute Error:', MAE_mt, 'degrees.')\n",
    "print('Mean Absolute Percentage Error:', MAPE_mt, '%.')"
   ]
  },
  {
   "cell_type": "code",
   "execution_count": null,
   "id": "84377ad7",
   "metadata": {},
   "outputs": [],
   "source": [
    "# Get numerical feature importances\n",
    "importances_mt = list(rf_mt.feature_importances_)\n",
    "\n",
    "# List of tuples with variable and importance\n",
    "feature_importances_mt = [(feature, round(importance, 2)) for feature, importance in zip(predictors_num+predictors_mean_target, importances_mt)]\n",
    "\n",
    "# Sort the feature importances by most important first and take only 10 most powerful\n",
    "feature_importances_mt = sorted(feature_importances_mt, key = lambda x: x[1], reverse = True)[:10]\n",
    "\n",
    "# Print out the feature and importances \n",
    "[print('Variable: {:20} Importance: {}'.format(*pair)) for pair in feature_importances_mt];"
   ]
  },
  {
   "cell_type": "markdown",
   "id": "af7d0a7a",
   "metadata": {},
   "source": [
    "### Comparison"
   ]
  },
  {
   "cell_type": "code",
   "execution_count": null,
   "id": "d0e79be1",
   "metadata": {},
   "outputs": [],
   "source": [
    "# Visualise prediction errors. Namely, we plot difference in residuals of the two models against target value in scatter plot.\n",
    "\n",
    "fig, ax1 = plt.subplots(figsize=(10, 10))\n",
    "ax1.scatter(y_test_mt, predictions_mt-predictions_oh)\n",
    "ax1.set_xlabel('Target', size=20)\n",
    "ax1.set_ylabel('Errors difference (mean-target - one-hot)', size=20)\n",
    "\n",
    "plt.show()"
   ]
  },
  {
   "cell_type": "markdown",
   "id": "45ed1838",
   "metadata": {},
   "source": [
    "## Un-observed value\n",
    "\n",
    "Our aim now is to forecast at location which has not been observed in training data. \n",
    "- For one-hot-encoding, we would have to re-train our model.\n",
    "- If we use mean-target encoding, only target means have to be computed for the new category."
   ]
  },
  {
   "cell_type": "code",
   "execution_count": null,
   "id": "ae118556-1d0d-4f4f-97ba-8776ef68c42f",
   "metadata": {},
   "outputs": [],
   "source": []
  },
  {
   "cell_type": "markdown",
   "id": "9c10e084-f898-42ba-b1d0-4fa9c5444173",
   "metadata": {},
   "source": [
    "# TODO solutions"
   ]
  },
  {
   "cell_type": "markdown",
   "id": "6e7560b5-8387-49d3-acae-d9bf0cde62d3",
   "metadata": {},
   "source": [
    "## Reencoding for CART"
   ]
  },
  {
   "cell_type": "code",
   "execution_count": null,
   "id": "36db8ebc-c516-4340-81d1-6f6c187f75f7",
   "metadata": {},
   "outputs": [],
   "source": [
    "# data_cart['RainTodayFlag']=data_cart['RainToday'].apply(lambda x: 1 if x=='Yes' else 0) \n",
    "# data_cart['RainTomorrowFlag']=data_cart['RainTomorrow'].apply(lambda x: 1 if x=='Yes' else 0) "
   ]
  },
  {
   "cell_type": "markdown",
   "id": "9d4fbbdd-2b9a-42b7-aa63-f165e168a08f",
   "metadata": {},
   "source": [
    "## Data split"
   ]
  },
  {
   "cell_type": "code",
   "execution_count": null,
   "id": "90954f9a-0328-40a1-bb8c-5126c7cd4842",
   "metadata": {},
   "outputs": [],
   "source": [
    "# data_cart_train, data_cart_test = train_test_split(\n",
    "#     data_cart, test_size=0.2, random_state=17, stratify=data_cart['Month']\n",
    "# ) "
   ]
  },
  {
   "cell_type": "markdown",
   "id": "f8873b15-ba4e-46f8-a6d7-5c73672343c8",
   "metadata": {},
   "source": [
    "## Fit the model"
   ]
  },
  {
   "cell_type": "code",
   "execution_count": null,
   "id": "98a9b07f-7b19-420c-8b2a-ed0bfcb998d1",
   "metadata": {},
   "outputs": [],
   "source": [
    "# criterion = 'gini' \n",
    "# splitter = 'best' \n",
    "# mdepth = 4 #(TODO)\n",
    "# min_samples_split = 5 \n",
    "# min_samples_leaf = 0.001 \n",
    "# random_state = 17"
   ]
  },
  {
   "cell_type": "markdown",
   "id": "70b09427-924e-4ead-af6d-31ad84d9f468",
   "metadata": {},
   "source": [
    "## Prediction"
   ]
  },
  {
   "cell_type": "code",
   "execution_count": null,
   "id": "760379fc-f42f-4eb4-8555-72f315affb61",
   "metadata": {},
   "outputs": [],
   "source": [
    "# data_cart_test['Prediction_prob'] = clf.predict_proba(data_cart_test[predictors])[:,1]\n",
    "# data_cart_test['Prediction'] = (data_cart_test['Prediction_prob']>=0.5).astype(int) "
   ]
  },
  {
   "cell_type": "markdown",
   "id": "dd23ba15-10cf-4548-972a-70830257704d",
   "metadata": {},
   "source": [
    "## Accuracy"
   ]
  },
  {
   "cell_type": "code",
   "execution_count": null,
   "id": "140d811f-9a38-4baa-9a72-2ce5b96f23c0",
   "metadata": {},
   "outputs": [],
   "source": [
    "# data_cart_test['Accuracy'] = 1-abs(data_cart_test[target] - data_cart_test['Prediction'])\n",
    "# data_cart_accuracy = data_cart_test.groupby('Month')['Accuracy'].mean()"
   ]
  },
  {
   "cell_type": "markdown",
   "id": "8ea36b50-1069-42a4-9b6a-83de044c73cd",
   "metadata": {},
   "source": [
    "## Random forest manually"
   ]
  },
  {
   "cell_type": "code",
   "execution_count": null,
   "id": "6e0d10d7-42ef-4894-b49c-56e07e87f77a",
   "metadata": {},
   "outputs": [],
   "source": [
    "    # # TODO: Define 'train_index' a list of indices from 'data_cart_train' to be used for training in given iteration, consider parameter 'p_obs'\n",
    "    # train_index = random.sample(list(data_cart_train.index), int(p_obs*len(data_cart_train))) "
   ]
  },
  {
   "cell_type": "code",
   "execution_count": null,
   "id": "4b563c33-005b-4acb-9747-a42607441758",
   "metadata": {},
   "outputs": [],
   "source": [
    "        # # TODO: Compute predictions using model.predict_proba for 'data_cart_train' and 'data_cart_test' in the first iteration\n",
    "        # data_cart_train['Prediction_forest_prob'] = model.predict_proba(data_cart_train[predictors])[:,1] \n",
    "        # data_cart_test['Prediction_forest_prob'] = model.predict_proba(data_cart_test[predictors])[:,1] "
   ]
  },
  {
   "cell_type": "code",
   "execution_count": null,
   "id": "7ac78cba-de6f-4ae4-8f6a-9b7e0da97df7",
   "metadata": {},
   "outputs": [],
   "source": [
    "        # # TODO: Compute predictions using model.predict_proba for 'data_cart_train' and 'data_cart_test' after the first iteration\n",
    "        # data_cart_train['Prediction_forest_prob'] = 1/(n+1)*(data_cart_train['Prediction_forest_prob']*n + model.predict_proba(data_cart_train[predictors])[:,1])\n",
    "        # data_cart_test['Prediction_forest_prob'] = 1/(n+1)*(data_cart_test['Prediction_forest_prob']*n + model.predict_proba(data_cart_test[predictors])[:,1]) "
   ]
  },
  {
   "cell_type": "code",
   "execution_count": null,
   "id": "0c3f6378-8ba9-44d0-bbe4-f62f966fa808",
   "metadata": {},
   "outputs": [],
   "source": [
    "    # # TODO: Use threshold to transform probabilities to 0/1 values and store prediction as 'Prediction_forest' column in 'data_cart_train' and 'data_cart_test' datasets\n",
    "    # data_cart_train['Prediction_forest'] = (data_cart_train['Prediction_forest_prob']>=0.5).astype(int)\n",
    "    # data_cart_test['Prediction_forest'] = (data_cart_test['Prediction_forest_prob']>=0.5).astype(int)"
   ]
  },
  {
   "cell_type": "markdown",
   "id": "a13f06ff-9b91-4b11-9505-06adcc523323",
   "metadata": {},
   "source": [
    "## Get dummies"
   ]
  },
  {
   "cell_type": "code",
   "execution_count": null,
   "id": "20d3f45f-dff3-4b35-ab36-8db0dbe58c4f",
   "metadata": {},
   "outputs": [],
   "source": [
    "    # data_one_hot = pd.get_dummies(data_forest[pred])\n",
    "    # data_one_hot.columns = [pred+col for col in data_one_hot.columns] "
   ]
  },
  {
   "cell_type": "markdown",
   "id": "0d32698c-baa7-406d-ad8d-dde8c94a2169",
   "metadata": {},
   "source": [
    "## One-hot encoding model"
   ]
  },
  {
   "cell_type": "code",
   "execution_count": null,
   "id": "6f13b4b8-600b-4694-9186-e44094e29dca",
   "metadata": {},
   "outputs": [],
   "source": [
    "# n_estimators=500 \n",
    "# criterion='squared_error' \n",
    "# max_depth=7 \n",
    "# min_samples_leaf=10 \n",
    "# min_impurity_decrease=0.1 \n",
    "# bootstrap=True \n",
    "# oob_score=False \n",
    "# verbose=1 \n",
    "# ccp_alpha=0.0 \n",
    "\n",
    "# # Instantiate model \n",
    "# rf_oh = RandomForestRegressor(\n",
    "#     n_estimators=n_estimators,\n",
    "#     criterion=criterion,\n",
    "#     max_depth=max_depth,\n",
    "#     min_samples_leaf=min_samples_leaf,\n",
    "#     min_impurity_decrease=min_impurity_decrease,\n",
    "#     bootstrap=bootstrap,\n",
    "#     oob_score=oob_score,\n",
    "#     ccp_alpha=ccp_alpha\n",
    "# )\n",
    "\n",
    "# rf_oh.fit(X_train_oh, y_train_oh) "
   ]
  },
  {
   "cell_type": "markdown",
   "id": "8dee8b05-4e73-4ff5-8c24-f2f69a6ca477",
   "metadata": {},
   "source": [
    "## Mean target encoding model"
   ]
  },
  {
   "cell_type": "code",
   "execution_count": null,
   "id": "35ed1af1-d843-4eb0-8704-4d14b3773805",
   "metadata": {},
   "outputs": [],
   "source": [
    "# n_estimators=500 \n",
    "# criterion='squared_error' # 'mse' replaced by 'squared_error' in some implementations\n",
    "# max_depth=7\n",
    "# min_samples_leaf=10 \n",
    "# min_impurity_decrease=0.1 \n",
    "# bootstrap=True \n",
    "# oob_score=False \n",
    "# verbose=1 \n",
    "# ccp_alpha=0.0 \n",
    "\n",
    "# # Instantiate model \n",
    "# rf_mt = RandomForestRegressor( \n",
    "#     n_estimators=n_estimators,\n",
    "#     criterion=criterion,\n",
    "#     max_depth=max_depth,\n",
    "#     min_samples_leaf=min_samples_leaf,\n",
    "#     min_impurity_decrease=min_impurity_decrease,\n",
    "#     bootstrap=bootstrap,\n",
    "#     oob_score=oob_score,\n",
    "#     ccp_alpha=ccp_alpha\n",
    "# )\n",
    "\n",
    "# rf_mt.fit(X_train_mt, y_train_mt) "
   ]
  }
 ],
 "metadata": {
  "kernelspec": {
   "display_name": "Python 3 (ipykernel)",
   "language": "python",
   "name": "python3"
  },
  "language_info": {
   "codemirror_mode": {
    "name": "ipython",
    "version": 3
   },
   "file_extension": ".py",
   "mimetype": "text/x-python",
   "name": "python",
   "nbconvert_exporter": "python",
   "pygments_lexer": "ipython3",
   "version": "3.10.11"
  },
  "toc": {
   "base_numbering": 1,
   "nav_menu": {},
   "number_sections": true,
   "sideBar": true,
   "skip_h1_title": false,
   "title_cell": "Table of Contents",
   "title_sidebar": "Contents",
   "toc_cell": false,
   "toc_position": {
    "height": "calc(100% - 180px)",
    "left": "10px",
    "top": "150px",
    "width": "223px"
   },
   "toc_section_display": true,
   "toc_window_display": true
  },
  "varInspector": {
   "cols": {
    "lenName": 16,
    "lenType": 16,
    "lenVar": 40
   },
   "kernels_config": {
    "python": {
     "delete_cmd_postfix": "",
     "delete_cmd_prefix": "del ",
     "library": "var_list.py",
     "varRefreshCmd": "print(var_dic_list())"
    },
    "r": {
     "delete_cmd_postfix": ") ",
     "delete_cmd_prefix": "rm(",
     "library": "var_list.r",
     "varRefreshCmd": "cat(var_dic_list()) "
    }
   },
   "types_to_exclude": [
    "module",
    "function",
    "builtin_function_or_method",
    "instance",
    "_Feature"
   ],
   "window_display": false
  }
 },
 "nbformat": 4,
 "nbformat_minor": 5
}
